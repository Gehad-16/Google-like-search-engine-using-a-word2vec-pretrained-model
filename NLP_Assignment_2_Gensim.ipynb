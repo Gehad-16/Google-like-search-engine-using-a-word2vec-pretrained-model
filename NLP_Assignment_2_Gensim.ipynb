{
  "nbformat": 4,
  "nbformat_minor": 0,
  "metadata": {
    "colab": {
      "name": "NLP_Assignment_2_Gensim.ipynb",
      "provenance": [],
      "collapsed_sections": [
        "QlQ5mAOU9vke",
        "DJMNH1LW90f-",
        "j1kQy6IC-J70",
        "CVx4qkRN-RVN",
        "DOVFuAJA-Y21",
        "k7FYx0QU-evL",
        "dlxFg0At-jpe",
        "XhI1BtoI9_e7",
        "yNJ6DfeH7P1r",
        "_cg1vbPg7XYR",
        "R93v-BtV7a41",
        "zIBSybPs7e8u",
        "Z14AiRqV7ir6",
        "Q38QUQcxKhmJ",
        "880uAV_HKz6J",
        "XwWC4EdNK5px",
        "GHPuonYLK8Ih",
        "UEdNbz5UK_g_",
        "M7uDNzMCNXsM",
        "5zfyDsFeSyC5",
        "6PVj8z_BYaIQ",
        "LzMXMZ4aZpo0",
        "NX4AOhrERG2Y",
        "I5ZBrAfuPA3w",
        "GdXYA270WKzU",
        "quJpZYVaZE-N",
        "jz1Wwa38aN-g"
      ]
    },
    "kernelspec": {
      "name": "python3",
      "display_name": "Python 3"
    },
    "language_info": {
      "name": "python"
    }
  },
  "cells": [
    {
      "cell_type": "markdown",
      "source": [
        "# Model"
      ],
      "metadata": {
        "id": "QlQ5mAOU9vke"
      }
    },
    {
      "cell_type": "code",
      "source": [
        "import gensim\n",
        "import gensim.downloader as api\n",
        "wv = api.load('word2vec-google-news-300')"
      ],
      "metadata": {
        "colab": {
          "base_uri": "https://localhost:8080/"
        },
        "id": "Pu5j5ZCPssz_",
        "outputId": "79d51b55-fb5c-4767-a6b2-70d62e365126"
      },
      "execution_count": null,
      "outputs": [
        {
          "output_type": "stream",
          "name": "stdout",
          "text": [
            "[==================================================] 100.0% 1662.8/1662.8MB downloaded\n"
          ]
        }
      ]
    },
    {
      "cell_type": "code",
      "source": [
        "wv"
      ],
      "metadata": {
        "id": "l7ACxeBSSiCv",
        "colab": {
          "base_uri": "https://localhost:8080/"
        },
        "outputId": "68f91b4e-3f2e-4eb8-97cf-19c0a9e4c540"
      },
      "execution_count": null,
      "outputs": [
        {
          "output_type": "execute_result",
          "data": {
            "text/plain": [
              "<gensim.models.keyedvectors.Word2VecKeyedVectors at 0x7f7e8c2534d0>"
            ]
          },
          "metadata": {},
          "execution_count": 2
        }
      ]
    },
    {
      "cell_type": "code",
      "source": [
        "import re\n",
        "from gensim.models import Word2Vec, KeyedVectors\n",
        "from gensim.scripts.glove2word2vec import glove2word2vec\n",
        "from gensim.test.utils import datapath"
      ],
      "metadata": {
        "id": "hmDEOKT0l8R2"
      },
      "execution_count": null,
      "outputs": []
    },
    {
      "cell_type": "code",
      "source": [
        "# We upload the documents from wikipidia and save them in text_file"
      ],
      "metadata": {
        "id": "A9ImiIPFFeTJ"
      },
      "execution_count": 295,
      "outputs": []
    },
    {
      "cell_type": "markdown",
      "source": [
        "# UnZip Files"
      ],
      "metadata": {
        "id": "DJMNH1LW90f-"
      }
    },
    {
      "cell_type": "code",
      "execution_count": null,
      "metadata": {
        "id": "XrDYts_YfoET"
      },
      "outputs": [],
      "source": [
        "# app.py\n",
        "\n",
        "from zipfile import ZipFile\n",
        "\n",
        "with ZipFile('CS.zip', 'r') as zipObj_1:\n",
        "   # Extract all the contents of zip file in current directory\n",
        "   zipObj_1.extractall()"
      ]
    },
    {
      "cell_type": "code",
      "source": [
        "# app.py\n",
        "\n",
        "from zipfile import ZipFile\n",
        "\n",
        "with ZipFile('Cuisine.zip', 'r') as zipObj_2:\n",
        "   # Extract all the contents of zip file in current directory\n",
        "   zipObj_2.extractall()"
      ],
      "metadata": {
        "id": "m0DLLRt2f3O3"
      },
      "execution_count": null,
      "outputs": []
    },
    {
      "cell_type": "code",
      "source": [
        "# app.py\n",
        "\n",
        "from zipfile import ZipFile\n",
        "\n",
        "with ZipFile('Election.zip', 'r') as zipObj_3:\n",
        "   # Extract all the contents of zip file in current directory\n",
        "   zipObj_3.extractall()"
      ],
      "metadata": {
        "id": "HT2agfG_gvK_"
      },
      "execution_count": null,
      "outputs": []
    },
    {
      "cell_type": "code",
      "source": [
        "# app.py\n",
        "\n",
        "from zipfile import ZipFile\n",
        "\n",
        "with ZipFile('Medical.zip', 'r') as zipObj_4:\n",
        "   # Extract all the contents of zip file in current directory\n",
        "   zipObj_4.extractall()"
      ],
      "metadata": {
        "id": "8ZvsEY07gxFe"
      },
      "execution_count": null,
      "outputs": []
    },
    {
      "cell_type": "code",
      "source": [
        "# app.py\n",
        "\n",
        "from zipfile import ZipFile\n",
        "\n",
        "with ZipFile('Sport.zip', 'r') as zipObj_5:\n",
        "   # Extract all the contents of zip file in current directory\n",
        "   zipObj_5.extractall()"
      ],
      "metadata": {
        "id": "Lyfj9CIcgxzw"
      },
      "execution_count": null,
      "outputs": []
    },
    {
      "cell_type": "markdown",
      "source": [
        "# Domain_1 (CS)"
      ],
      "metadata": {
        "id": "j1kQy6IC-J70"
      }
    },
    {
      "cell_type": "code",
      "source": [
        "def read_text_file(file_path):\n",
        "\twith open(file_path, 'r') as f:\n",
        "\t\tprint(f.read())"
      ],
      "metadata": {
        "id": "Z5C0VMsthcKx"
      },
      "execution_count": null,
      "outputs": []
    },
    {
      "cell_type": "code",
      "source": [
        "# Import Module\n",
        "import os\n",
        "\n",
        "# Folder Path\n",
        "path_1 = \"/content/CS/\"\n",
        "# /content/documents/Action_game.txt\n",
        "# Change the directory\n",
        "os.chdir(path_1)"
      ],
      "metadata": {
        "id": "M0MD5d-Cg82g"
      },
      "execution_count": null,
      "outputs": []
    },
    {
      "cell_type": "code",
      "source": [
        "file_path_1=[]\n",
        "# iterate through all file\n",
        "for file in os.listdir():\n",
        "\t# Check whether file is in text format or not\n",
        "\t# if file.endswith(\".txt\"):\n",
        "\tfile_path_1.append(f\"{path_1}{file}\") "
      ],
      "metadata": {
        "id": "TgLHUjGvkE9T"
      },
      "execution_count": null,
      "outputs": []
    },
    {
      "cell_type": "code",
      "source": [
        "file_path_1"
      ],
      "metadata": {
        "id": "hbNPSUFipJZB",
        "colab": {
          "base_uri": "https://localhost:8080/"
        },
        "outputId": "ec15b098-21cd-4940-a84c-2ce8a7ef617a"
      },
      "execution_count": null,
      "outputs": [
        {
          "output_type": "execute_result",
          "data": {
            "text/plain": [
              "['/content/CS/Data_structure.txt',\n",
              " '/content/CS/Computer_science.txt',\n",
              " '/content/CS/Data_type.txt',\n",
              " '/content/CS/Big_data.txt']"
            ]
          },
          "metadata": {},
          "execution_count": 12
        }
      ]
    },
    {
      "cell_type": "code",
      "source": [
        "Domain_1=[]\n",
        "for i in range(len(file_path_1)) :\n",
        "  myfile_1 = open(file_path_1[i], \"rt\")\n",
        "  Domain_1.append(myfile_1.read())"
      ],
      "metadata": {
        "id": "RWSQVgbJkwf7"
      },
      "execution_count": null,
      "outputs": []
    },
    {
      "cell_type": "code",
      "source": [
        "len(Domain_1)"
      ],
      "metadata": {
        "id": "mBgcjkrc1182",
        "colab": {
          "base_uri": "https://localhost:8080/"
        },
        "outputId": "92a625e5-1628-4995-8237-996169ba2609"
      },
      "execution_count": null,
      "outputs": [
        {
          "output_type": "execute_result",
          "data": {
            "text/plain": [
              "4"
            ]
          },
          "metadata": {},
          "execution_count": 14
        }
      ]
    },
    {
      "cell_type": "markdown",
      "source": [
        "# Domain_2 (Cuisine)"
      ],
      "metadata": {
        "id": "CVx4qkRN-RVN"
      }
    },
    {
      "cell_type": "code",
      "source": [
        "# Import Module\n",
        "import os\n",
        "\n",
        "# Folder Path\n",
        "path_2 = \"/content/Cuisine/\"\n",
        "# /content/documents/Action_game.txt\n",
        "# Change the directory\n",
        "os.chdir(path_2)"
      ],
      "metadata": {
        "id": "PMLrGimXhQzg"
      },
      "execution_count": null,
      "outputs": []
    },
    {
      "cell_type": "code",
      "source": [
        "file_path_2=[]\n",
        "# iterate through all file\n",
        "for file in os.listdir():\n",
        "\t# Check whether file is in text format or not\n",
        "\t# if file.endswith(\".txt\"):\n",
        "\tfile_path_2.append(f\"{path_2}{file}\") "
      ],
      "metadata": {
        "id": "deaM0QB3kayT"
      },
      "execution_count": null,
      "outputs": []
    },
    {
      "cell_type": "code",
      "source": [
        "Domain_2=[]\n",
        "for i in range(len(file_path_2)) :\n",
        "  myfile_2 = open(file_path_2[i], \"rt\")\n",
        "  Domain_2.append(myfile_2.read())"
      ],
      "metadata": {
        "id": "X-3vheQskxep"
      },
      "execution_count": null,
      "outputs": []
    },
    {
      "cell_type": "markdown",
      "source": [
        "# Domain_3 (Election)"
      ],
      "metadata": {
        "id": "DOVFuAJA-Y21"
      }
    },
    {
      "cell_type": "code",
      "source": [
        "# Import Module\n",
        "import os\n",
        "\n",
        "# Folder Path\n",
        "path_3 = \"/content/Election/\"\n",
        "# /content/documents/Action_game.txt\n",
        "# Change the directory\n",
        "os.chdir(path_3)"
      ],
      "metadata": {
        "id": "DcCaCkD5jtyq"
      },
      "execution_count": null,
      "outputs": []
    },
    {
      "cell_type": "code",
      "source": [
        "file_path_3=[]\n",
        "# iterate through all file\n",
        "for file in os.listdir():\n",
        "\t# Check whether file is in text format or not\n",
        "\t# if file.endswith(\".txt\"):\n",
        "\tfile_path_3.append(f\"{path_3}{file}\") "
      ],
      "metadata": {
        "id": "T9Laj_FskdrX"
      },
      "execution_count": null,
      "outputs": []
    },
    {
      "cell_type": "code",
      "source": [
        "Domain_3=[]\n",
        "for i in range(len(file_path_3)) :\n",
        "  myfile_3 = open(file_path_3[i], \"rt\")\n",
        "  Domain_3.append(myfile_3.read())"
      ],
      "metadata": {
        "id": "IMRzx1i9lAOt"
      },
      "execution_count": null,
      "outputs": []
    },
    {
      "cell_type": "markdown",
      "source": [
        "# Domain_4 (Medical)"
      ],
      "metadata": {
        "id": "k7FYx0QU-evL"
      }
    },
    {
      "cell_type": "code",
      "source": [
        "# Import Module\n",
        "import os\n",
        "\n",
        "# Folder Path\n",
        "path_4= \"/content/Medical/\"\n",
        "# /content/documents/Action_game.txt\n",
        "# Change the directory\n",
        "os.chdir(path_4)"
      ],
      "metadata": {
        "id": "R8o4KbbRjwAf"
      },
      "execution_count": null,
      "outputs": []
    },
    {
      "cell_type": "code",
      "source": [
        "file_path_4=[]\n",
        "# iterate through all file\n",
        "for file in os.listdir():\n",
        "\t# Check whether file is in text format or not\n",
        "\t# if file.endswith(\".txt\"):\n",
        "\tfile_path_4.append(f\"{path_4}{file}\") "
      ],
      "metadata": {
        "id": "F3weOOegkgoU"
      },
      "execution_count": null,
      "outputs": []
    },
    {
      "cell_type": "code",
      "source": [
        "Domain_4=[]\n",
        "for i in range(len(file_path_4)) :\n",
        "  myfile_4 = open(file_path_4[i], \"rt\")\n",
        "  Domain_4.append(myfile_4.read())"
      ],
      "metadata": {
        "id": "FXTZHKU3lOBi"
      },
      "execution_count": null,
      "outputs": []
    },
    {
      "cell_type": "markdown",
      "source": [
        "# Domain_5 (Sport)"
      ],
      "metadata": {
        "id": "dlxFg0At-jpe"
      }
    },
    {
      "cell_type": "code",
      "source": [
        "# Import Module\n",
        "import os\n",
        "\n",
        "# Folder Path\n",
        "path_5 = \"/content/Sport/\"\n",
        "# /content/documents/Action_game.txt\n",
        "# Change the directory\n",
        "os.chdir(path_5)"
      ],
      "metadata": {
        "id": "XEhkzFTKjxF2"
      },
      "execution_count": null,
      "outputs": []
    },
    {
      "cell_type": "code",
      "source": [
        "file_path_5=[]\n",
        "# iterate through all file\n",
        "for file in os.listdir():\n",
        "\t# Check whether file is in text format or not\n",
        "\t# if file.endswith(\".txt\"):\n",
        "\tfile_path_5.append(f\"{path_5}{file}\") "
      ],
      "metadata": {
        "id": "BO_qc3pWkjqo"
      },
      "execution_count": null,
      "outputs": []
    },
    {
      "cell_type": "code",
      "source": [
        "# /content/CS/Big_data.txt"
      ],
      "metadata": {
        "id": "1oekVDbxn3Od"
      },
      "execution_count": null,
      "outputs": []
    },
    {
      "cell_type": "code",
      "source": [
        "Domain_5=[]\n",
        "for i in range(len(file_path_5)) :\n",
        "  myfile_5 = open(file_path_5[i], \"rt\")\n",
        "  Domain_5.append(myfile_5.read())"
      ],
      "metadata": {
        "id": "wbOT7n9LlOps"
      },
      "execution_count": null,
      "outputs": []
    },
    {
      "cell_type": "markdown",
      "source": [
        "# Tokenization"
      ],
      "metadata": {
        "id": "XhI1BtoI9_e7"
      }
    },
    {
      "cell_type": "code",
      "source": [
        "def tokenize(text):\n",
        "    pattern = re.compile(r'[A-Za-z]+[\\w^\\']*|[\\w^\\']*[A-Za-z]+[\\w^\\']*')\n",
        "    return pattern.findall(text.lower())"
      ],
      "metadata": {
        "id": "Wzb39ETNl0bO"
      },
      "execution_count": null,
      "outputs": []
    },
    {
      "cell_type": "code",
      "source": [
        "Domain_1_tokanized=[]\n",
        "for i in range(len(Domain_1)):\n",
        "  # tokens_1=' '.join(Domain_1[i])\n",
        "  Domain_1_tokanized.append(tokenize(Domain_1[i]))"
      ],
      "metadata": {
        "id": "JR3OcafYqlVc"
      },
      "execution_count": null,
      "outputs": []
    },
    {
      "cell_type": "code",
      "source": [
        "len(Domain_1_tokanized[0])"
      ],
      "metadata": {
        "id": "I2xb7tyc2jI4",
        "colab": {
          "base_uri": "https://localhost:8080/"
        },
        "outputId": "f7787dc6-5929-49d5-8e92-53b94aac9e27"
      },
      "execution_count": null,
      "outputs": [
        {
          "output_type": "execute_result",
          "data": {
            "text/plain": [
              "1155"
            ]
          },
          "metadata": {},
          "execution_count": 30
        }
      ]
    },
    {
      "cell_type": "code",
      "source": [
        "Domain_2_tokanized=[]\n",
        "for i in range(len(Domain_2)):\n",
        "  # tokens_1=' '.join(Domain_1[i])\n",
        "  Domain_2_tokanized.append(tokenize(Domain_2[i]))"
      ],
      "metadata": {
        "id": "gcWgXah5lzlU"
      },
      "execution_count": null,
      "outputs": []
    },
    {
      "cell_type": "code",
      "source": [
        "Domain_3_tokanized=[]\n",
        "for i in range(len(Domain_3)):\n",
        "  # tokens_1=' '.join(Domain_1[i])\n",
        "  Domain_3_tokanized.append(tokenize(Domain_3[i]))"
      ],
      "metadata": {
        "id": "ieRPxebCqZwA"
      },
      "execution_count": null,
      "outputs": []
    },
    {
      "cell_type": "code",
      "source": [
        "Domain_4_tokanized=[]\n",
        "for i in range(len(Domain_4)):\n",
        "  # tokens_1=' '.join(Domain_1[i])\n",
        "  Domain_4_tokanized.append(tokenize(Domain_4[i]))"
      ],
      "metadata": {
        "id": "yOszEeLEqraf"
      },
      "execution_count": null,
      "outputs": []
    },
    {
      "cell_type": "code",
      "source": [
        "Domain_5_tokanized=[]\n",
        "for i in range(len(Domain_5)):\n",
        "  # tokens_1=' '.join(Domain_1[i])\n",
        "  Domain_5_tokanized.append(tokenize(Domain_5[i]))"
      ],
      "metadata": {
        "id": "w-DEozQSq-Kj"
      },
      "execution_count": null,
      "outputs": []
    },
    {
      "cell_type": "code",
      "source": [
        "len(Domain_1_tokanized)"
      ],
      "metadata": {
        "id": "J8jcWJx6xHn7",
        "colab": {
          "base_uri": "https://localhost:8080/"
        },
        "outputId": "d86ab240-e9fe-4ed6-bcb7-1bfae46f0ab0"
      },
      "execution_count": null,
      "outputs": [
        {
          "output_type": "execute_result",
          "data": {
            "text/plain": [
              "4"
            ]
          },
          "metadata": {},
          "execution_count": 35
        }
      ]
    },
    {
      "cell_type": "markdown",
      "source": [
        "# Embedding_Domain_1"
      ],
      "metadata": {
        "id": "yNJ6DfeH7P1r"
      }
    },
    {
      "cell_type": "code",
      "source": [
        "Embedding_Domain_1_Doc_1=[]\n",
        "for i in range(len(Domain_1_tokanized[0])):\n",
        "  if Domain_1_tokanized[0][i] in wv:\n",
        "    Embedding_Domain_1_Doc_1.append(wv[Domain_1_tokanized[0][i]])"
      ],
      "metadata": {
        "id": "w_tgb_snuHlL"
      },
      "execution_count": null,
      "outputs": []
    },
    {
      "cell_type": "code",
      "source": [
        "Embedding_Domain_1_Doc_2=[]\n",
        "for i in range(len(Domain_1_tokanized[1])):\n",
        "  if Domain_1_tokanized[1][i] in wv:\n",
        "    Embedding_Domain_1_Doc_2.append(wv[Domain_1_tokanized[1][i]])"
      ],
      "metadata": {
        "id": "PlmUVOkb5ueq"
      },
      "execution_count": null,
      "outputs": []
    },
    {
      "cell_type": "code",
      "source": [
        "Embedding_Domain_1_Doc_3=[]\n",
        "for i in range(len(Domain_1_tokanized[2])):\n",
        "  if Domain_1_tokanized[2][i] in wv:\n",
        "    Embedding_Domain_1_Doc_3.append(wv[Domain_1_tokanized[2][i]])"
      ],
      "metadata": {
        "id": "Ui0g0FE55zm0"
      },
      "execution_count": null,
      "outputs": []
    },
    {
      "cell_type": "code",
      "source": [
        "Embedding_Domain_1_Doc_4=[]\n",
        "for i in range(len(Domain_1_tokanized[3])):\n",
        "  if Domain_1_tokanized[3][i] in wv:\n",
        "    Embedding_Domain_1_Doc_4.append(wv[Domain_1_tokanized[3][i]])"
      ],
      "metadata": {
        "id": "gTa7VXQY545n"
      },
      "execution_count": null,
      "outputs": []
    },
    {
      "cell_type": "markdown",
      "source": [
        "# Embedding_Domain_2"
      ],
      "metadata": {
        "id": "_cg1vbPg7XYR"
      }
    },
    {
      "cell_type": "code",
      "source": [
        "Embedding_Domain_2_Doc_1=[]\n",
        "for i in range(len(Domain_2_tokanized[0])):\n",
        "  if Domain_2_tokanized[0][i] in wv:\n",
        "    Embedding_Domain_2_Doc_1.append(wv[Domain_2_tokanized[0][i]])"
      ],
      "metadata": {
        "id": "NDgfDMih6EqU"
      },
      "execution_count": null,
      "outputs": []
    },
    {
      "cell_type": "code",
      "source": [
        "Embedding_Domain_2_Doc_2=[]\n",
        "for i in range(len(Domain_2_tokanized[1])):\n",
        "  if Domain_2_tokanized[1][i] in wv:\n",
        "    Embedding_Domain_2_Doc_2.append(wv[Domain_2_tokanized[1][i]])"
      ],
      "metadata": {
        "id": "2aewC4Y66K5f"
      },
      "execution_count": null,
      "outputs": []
    },
    {
      "cell_type": "code",
      "source": [
        "Embedding_Domain_2_Doc_3=[]\n",
        "for i in range(len(Domain_2_tokanized[2])):\n",
        "  if Domain_2_tokanized[2][i] in wv:\n",
        "    Embedding_Domain_2_Doc_3.append(wv[Domain_2_tokanized[2][i]])"
      ],
      "metadata": {
        "id": "AKYeIA5D6Vz8"
      },
      "execution_count": null,
      "outputs": []
    },
    {
      "cell_type": "code",
      "source": [
        "Embedding_Domain_2_Doc_4=[]\n",
        "for i in range(len(Domain_2_tokanized[3])):\n",
        "  if Domain_2_tokanized[3][i] in wv:\n",
        "    Embedding_Domain_2_Doc_4.append(wv[Domain_2_tokanized[3][i]])"
      ],
      "metadata": {
        "id": "neYQDrBA6lNR"
      },
      "execution_count": null,
      "outputs": []
    },
    {
      "cell_type": "markdown",
      "source": [
        "# Embedding_Domain_3"
      ],
      "metadata": {
        "id": "R93v-BtV7a41"
      }
    },
    {
      "cell_type": "code",
      "source": [
        "Embedding_Domain_3_Doc_1=[]\n",
        "for i in range(len(Domain_3_tokanized[0])):\n",
        "  if Domain_3_tokanized[0][i] in wv:\n",
        "    Embedding_Domain_3_Doc_1.append(wv[Domain_3_tokanized[0][i]])"
      ],
      "metadata": {
        "id": "J3MValp36uWA"
      },
      "execution_count": null,
      "outputs": []
    },
    {
      "cell_type": "code",
      "source": [
        "Embedding_Domain_3_Doc_2=[]\n",
        "for i in range(len(Domain_3_tokanized[1])):\n",
        "  if Domain_3_tokanized[1][i] in wv:\n",
        "    Embedding_Domain_3_Doc_2.append(wv[Domain_3_tokanized[1][i]])"
      ],
      "metadata": {
        "id": "Q6Mf9SZh60sW"
      },
      "execution_count": null,
      "outputs": []
    },
    {
      "cell_type": "code",
      "source": [
        "Embedding_Domain_3_Doc_3=[]\n",
        "for i in range(len(Domain_3_tokanized[2])):\n",
        "  if Domain_3_tokanized[2][i] in wv:\n",
        "    Embedding_Domain_3_Doc_3.append(wv[Domain_3_tokanized[2][i]])"
      ],
      "metadata": {
        "id": "rYDum9kF665G"
      },
      "execution_count": null,
      "outputs": []
    },
    {
      "cell_type": "code",
      "source": [
        "Embedding_Domain_3_Doc_4=[]\n",
        "for i in range(len(Domain_3_tokanized[3])):\n",
        "  if Domain_3_tokanized[3][i] in wv:\n",
        "    Embedding_Domain_3_Doc_4.append(wv[Domain_3_tokanized[3][i]])"
      ],
      "metadata": {
        "id": "viyq20K86_rf"
      },
      "execution_count": null,
      "outputs": []
    },
    {
      "cell_type": "markdown",
      "source": [
        "# Embedding_Domain_4"
      ],
      "metadata": {
        "id": "zIBSybPs7e8u"
      }
    },
    {
      "cell_type": "code",
      "source": [
        "Embedding_Domain_4_Doc_1=[]\n",
        "for i in range(len(Domain_4_tokanized[0])):\n",
        "  if Domain_4_tokanized[0][i] in wv:\n",
        "    Embedding_Domain_4_Doc_1.append(wv[Domain_4_tokanized[0][i]])"
      ],
      "metadata": {
        "id": "QVAe1_bR7Lub"
      },
      "execution_count": null,
      "outputs": []
    },
    {
      "cell_type": "code",
      "source": [
        "Embedding_Domain_4_Doc_2=[]\n",
        "for i in range(len(Domain_4_tokanized[1])):\n",
        "  if Domain_4_tokanized[1][i] in wv:\n",
        "    Embedding_Domain_4_Doc_2.append(wv[Domain_4_tokanized[1][i]])"
      ],
      "metadata": {
        "id": "mrMzLwdz7ycc"
      },
      "execution_count": null,
      "outputs": []
    },
    {
      "cell_type": "code",
      "source": [
        "Embedding_Domain_4_Doc_3=[]\n",
        "for i in range(len(Domain_4_tokanized[2])):\n",
        "  if Domain_4_tokanized[2][i] in wv:\n",
        "    Embedding_Domain_4_Doc_3.append(wv[Domain_4_tokanized[2][i]])"
      ],
      "metadata": {
        "id": "VU7pjthe78wo"
      },
      "execution_count": null,
      "outputs": []
    },
    {
      "cell_type": "code",
      "source": [
        "Embedding_Domain_4_Doc_4=[]\n",
        "for i in range(len(Domain_4_tokanized[3])):\n",
        "  if Domain_4_tokanized[3][i] in wv:\n",
        "    Embedding_Domain_4_Doc_4.append(wv[Domain_4_tokanized[3][i]])"
      ],
      "metadata": {
        "id": "HzosoV-58Bge"
      },
      "execution_count": null,
      "outputs": []
    },
    {
      "cell_type": "markdown",
      "source": [
        "# Embedding_Domain_5"
      ],
      "metadata": {
        "id": "Z14AiRqV7ir6"
      }
    },
    {
      "cell_type": "code",
      "source": [
        "Embedding_Domain_5_Doc_1=[]\n",
        "for i in range(len(Domain_5_tokanized[0])):\n",
        "  if Domain_5_tokanized[0][i] in wv:\n",
        "    Embedding_Domain_5_Doc_1.append(wv[Domain_5_tokanized[0][i]])"
      ],
      "metadata": {
        "id": "2E1sq9JJ7tWY"
      },
      "execution_count": null,
      "outputs": []
    },
    {
      "cell_type": "code",
      "source": [
        "Embedding_Domain_5_Doc_2=[]\n",
        "for i in range(len(Domain_5_tokanized[1])):\n",
        "  if Domain_5_tokanized[1][i] in wv:\n",
        "    Embedding_Domain_5_Doc_2.append(wv[Domain_5_tokanized[1][i]])"
      ],
      "metadata": {
        "id": "G3AXXOji8Hwg"
      },
      "execution_count": null,
      "outputs": []
    },
    {
      "cell_type": "code",
      "source": [
        "Embedding_Domain_5_Doc_3=[]\n",
        "for i in range(len(Domain_5_tokanized[2])):\n",
        "  if Domain_5_tokanized[2][i] in wv:\n",
        "    Embedding_Domain_5_Doc_3.append(wv[Domain_5_tokanized[2][i]])"
      ],
      "metadata": {
        "id": "HHoZA-JJ8NAr"
      },
      "execution_count": null,
      "outputs": []
    },
    {
      "cell_type": "code",
      "source": [
        "Embedding_Domain_5_Doc_4=[]\n",
        "for i in range(len(Domain_5_tokanized[3])):\n",
        "  if Domain_5_tokanized[3][i] in wv:\n",
        "    Embedding_Domain_5_Doc_4.append(wv[Domain_5_tokanized[3][i]])"
      ],
      "metadata": {
        "id": "9rijiUbs8Rwd"
      },
      "execution_count": null,
      "outputs": []
    },
    {
      "cell_type": "code",
      "source": [
        "len(Embedding_Domain_5_Doc_4[0])"
      ],
      "metadata": {
        "id": "eeU-ekFgvFmM",
        "colab": {
          "base_uri": "https://localhost:8080/"
        },
        "outputId": "9a84726f-9cb0-4506-ae18-7a3260fc4480"
      },
      "execution_count": null,
      "outputs": [
        {
          "output_type": "execute_result",
          "data": {
            "text/plain": [
              "300"
            ]
          },
          "metadata": {},
          "execution_count": 56
        }
      ]
    },
    {
      "cell_type": "code",
      "source": [
        "len(Embedding_Domain_5_Doc_4)"
      ],
      "metadata": {
        "id": "F-rM1ALM9mqN",
        "colab": {
          "base_uri": "https://localhost:8080/"
        },
        "outputId": "0f2133c6-c1e6-4a51-ecdc-e59d8c973335"
      },
      "execution_count": null,
      "outputs": [
        {
          "output_type": "execute_result",
          "data": {
            "text/plain": [
              "3640"
            ]
          },
          "metadata": {},
          "execution_count": 57
        }
      ]
    },
    {
      "cell_type": "markdown",
      "source": [
        "# Average Domain_1"
      ],
      "metadata": {
        "id": "Q38QUQcxKhmJ"
      }
    },
    {
      "cell_type": "code",
      "source": [
        "import numpy as np"
      ],
      "metadata": {
        "id": "BLCsVmp_Kqvj"
      },
      "execution_count": null,
      "outputs": []
    },
    {
      "cell_type": "code",
      "source": [
        "Embedding_Domain_1_Doc_1_sum = np.sum(Embedding_Domain_1_Doc_1, axis=0)\n",
        "Embedding_Domain_1_Doc_1_sum_avg=Embedding_Domain_1_Doc_1_sum/len(Embedding_Domain_1_Doc_1)\n"
      ],
      "metadata": {
        "id": "vH0AtgoI9rRQ"
      },
      "execution_count": null,
      "outputs": []
    },
    {
      "cell_type": "code",
      "source": [
        "len(Embedding_Domain_1_Doc_1_sum_avg)"
      ],
      "metadata": {
        "id": "d8a33YX0Kwxt",
        "colab": {
          "base_uri": "https://localhost:8080/"
        },
        "outputId": "194e93f2-026b-4b1d-c1d6-6ce1dede1568"
      },
      "execution_count": null,
      "outputs": [
        {
          "output_type": "execute_result",
          "data": {
            "text/plain": [
              "300"
            ]
          },
          "metadata": {},
          "execution_count": 60
        }
      ]
    },
    {
      "cell_type": "code",
      "source": [
        "Embedding_Domain_1_Doc_1_sum_avg"
      ],
      "metadata": {
        "colab": {
          "base_uri": "https://localhost:8080/"
        },
        "id": "N3qQyCDoChK8",
        "outputId": "f9030e05-352f-486d-f0e6-5320ae4b3ff6"
      },
      "execution_count": null,
      "outputs": [
        {
          "output_type": "execute_result",
          "data": {
            "text/plain": [
              "array([ 0.00471834, -0.00421084,  0.04959388,  0.0829974 , -0.08413281,\n",
              "       -0.0192411 ,  0.04102019, -0.05896387,  0.07820239,  0.02500584,\n",
              "       -0.03865628, -0.08087748, -0.03827509,  0.02365237, -0.06990373,\n",
              "        0.05249991, -0.00861406,  0.07922065, -0.0395361 , -0.09115289,\n",
              "       -0.04005052,  0.00779626, -0.07148146,  0.03674826,  0.01895163,\n",
              "       -0.03543938, -0.09172124,  0.09260928, -0.02174006, -0.04872883,\n",
              "        0.00211605, -0.04544276, -0.0099866 , -0.01009286,  0.00141489,\n",
              "       -0.02560233,  0.00120581, -0.02197371,  0.0636013 , -0.00039351,\n",
              "        0.08709307,  0.03999423,  0.07922429,  0.04459801,  0.00800236,\n",
              "       -0.08230352, -0.05174629,  0.02519998, -0.01501109,  0.01828283,\n",
              "        0.00624976, -0.02280974, -0.03449424, -0.06677169, -0.01435161,\n",
              "        0.05386569, -0.04308509, -0.10484561,  0.03725874, -0.04765037,\n",
              "       -0.01042174,  0.02293122, -0.08155319, -0.06804091, -0.05363211,\n",
              "       -0.00369234, -0.04550957,  0.11599128, -0.02865137,  0.00768028,\n",
              "        0.04870113, -0.03501789,  0.12329068, -0.05450425, -0.07916546,\n",
              "       -0.05929137,  0.07888942,  0.04260325,  0.04222995,  0.05492317,\n",
              "        0.0387615 , -0.03399915,  0.03856904, -0.00600018,  0.03110803,\n",
              "       -0.04010759, -0.05864226,  0.10689858, -0.01085874,  0.04102812,\n",
              "        0.05044938, -0.05170459, -0.05884399, -0.05608338,  0.02416838,\n",
              "       -0.03470098,  0.02213208, -0.03018831,  0.03316294,  0.01773932,\n",
              "        0.01126628, -0.0483483 , -0.01765631,  0.00754265, -0.02637991,\n",
              "       -0.00236235, -0.04175187, -0.00041291,  0.04747441, -0.04412775,\n",
              "       -0.05214359, -0.00479073, -0.02376652,  0.01038586,  0.08377139,\n",
              "        0.07813561,  0.00964529, -0.03152015,  0.14705248,  0.05653132,\n",
              "       -0.09616555, -0.00589754, -0.04701424,  0.06044676,  0.00841643,\n",
              "        0.00072423, -0.06400245,  0.02152889,  0.02528185,  0.04229429,\n",
              "        0.01013826, -0.07461625, -0.02913023, -0.00056026, -0.01775345,\n",
              "       -0.06180353,  0.04214929, -0.05606775, -0.02023541,  0.03057183,\n",
              "        0.05891808, -0.06256372,  0.01027371,  0.07565868,  0.03114   ,\n",
              "       -0.02781764,  0.01722405, -0.01617238, -0.04522191,  0.00538324,\n",
              "        0.04321895,  0.00114677, -0.07961133,  0.0534534 , -0.01221977,\n",
              "       -0.04838063, -0.07973591, -0.00241547, -0.05555682, -0.03412583,\n",
              "       -0.00997095,  0.04884323, -0.02089942,  0.01952621, -0.02701995,\n",
              "        0.00901311,  0.0258262 , -0.01868307, -0.04303206, -0.02693363,\n",
              "       -0.11505569, -0.05246351, -0.06251784, -0.0591962 ,  0.03648768,\n",
              "       -0.04193579,  0.03667613, -0.1244569 , -0.03193768, -0.01997441,\n",
              "       -0.08898409, -0.06207538, -0.01848663, -0.0099394 ,  0.02946932,\n",
              "        0.00290929, -0.05219265,  0.04394793,  0.07883751,  0.0657238 ,\n",
              "       -0.01694245, -0.05650367, -0.02371798, -0.03932862, -0.0766387 ,\n",
              "        0.01926007, -0.00993082, -0.06156214, -0.03139268, -0.11004481,\n",
              "        0.01645183,  0.04200457, -0.04061451,  0.01477834, -0.04194667,\n",
              "        0.00522094, -0.00213541, -0.03764898,  0.03749867, -0.01024498,\n",
              "       -0.01843637,  0.00267029, -0.05610688,  0.07696135, -0.08931649,\n",
              "        0.02669772,  0.09208796,  0.05177034, -0.08763602,  0.01157055,\n",
              "       -0.01244128,  0.00091857, -0.03248288, -0.07077779, -0.00973627,\n",
              "       -0.00611074,  0.01031191,  0.04046893,  0.05087519,  0.00879625,\n",
              "       -0.02367346, -0.06112792,  0.04861868,  0.00201939, -0.01089455,\n",
              "       -0.04959089,  0.01834333, -0.04799709,  0.08020876, -0.00054549,\n",
              "        0.03952968, -0.00072808,  0.0301288 , -0.08101749,  0.02277382,\n",
              "       -0.01648638, -0.02092715,  0.12645848, -0.02372387, -0.02165313,\n",
              "       -0.01611553,  0.04255794, -0.02666817, -0.00214787, -0.00040617,\n",
              "       -0.07000802, -0.00285579,  0.00348516, -0.03122588, -0.02203281,\n",
              "        0.05912668, -0.04507587, -0.06080705,  0.02493298,  0.03152713,\n",
              "        0.08913888,  0.01564884, -0.01840697, -0.08453491, -0.02551669,\n",
              "        0.01960575,  0.05817785,  0.05298259,  0.03550244,  0.05859438,\n",
              "       -0.03737805, -0.03710409, -0.09225513, -0.02225288, -0.0140871 ,\n",
              "       -0.05125726,  0.06234567,  0.03217901,  0.03747618,  0.02322316,\n",
              "       -0.02413163, -0.01998823, -0.00792473,  0.02691576,  0.04799637,\n",
              "       -0.08155832,  0.02847008, -0.02842632,  0.04141613, -0.02411391,\n",
              "        0.03028287,  0.01364772, -0.04712538,  0.00871238, -0.00781804],\n",
              "      dtype=float32)"
            ]
          },
          "metadata": {},
          "execution_count": 61
        }
      ]
    },
    {
      "cell_type": "code",
      "source": [
        "Embedding_Domain_1_Doc_2_sum = np.sum(Embedding_Domain_1_Doc_2, axis=0)\n",
        "Embedding_Domain_1_Doc_2_sum_avg=Embedding_Domain_1_Doc_2_sum/len(Embedding_Domain_1_Doc_2)\n"
      ],
      "metadata": {
        "id": "7RtlA03aLNDt"
      },
      "execution_count": null,
      "outputs": []
    },
    {
      "cell_type": "code",
      "source": [
        "Embedding_Domain_1_Doc_3_sum = np.sum(Embedding_Domain_1_Doc_3, axis=0)\n",
        "Embedding_Domain_1_Doc_3_sum_avg=Embedding_Domain_1_Doc_3_sum/len(Embedding_Domain_1_Doc_3)\n"
      ],
      "metadata": {
        "id": "3ccCQ_rELTFc"
      },
      "execution_count": null,
      "outputs": []
    },
    {
      "cell_type": "code",
      "source": [
        "Embedding_Domain_1_Doc_4_sum = np.sum(Embedding_Domain_1_Doc_4, axis=0)\n",
        "Embedding_Domain_1_Doc_4_sum_avg=Embedding_Domain_1_Doc_4_sum/len(Embedding_Domain_1_Doc_4)\n"
      ],
      "metadata": {
        "id": "nMQKQApCLYeY"
      },
      "execution_count": null,
      "outputs": []
    },
    {
      "cell_type": "markdown",
      "source": [
        "# Average Domain_2"
      ],
      "metadata": {
        "id": "880uAV_HKz6J"
      }
    },
    {
      "cell_type": "code",
      "source": [
        "Embedding_Domain_2_Doc_1_sum = np.sum(Embedding_Domain_2_Doc_1, axis=0)\n",
        "Embedding_Domain_2_Doc_1_sum_avg=Embedding_Domain_2_Doc_1_sum/len(Embedding_Domain_2_Doc_1)\n"
      ],
      "metadata": {
        "id": "e-O9_L_ELf4o"
      },
      "execution_count": null,
      "outputs": []
    },
    {
      "cell_type": "code",
      "source": [
        "Embedding_Domain_2_Doc_2_sum = np.sum(Embedding_Domain_2_Doc_2, axis=0)\n",
        "Embedding_Domain_2_Doc_2_sum_avg=Embedding_Domain_2_Doc_2_sum/len(Embedding_Domain_2_Doc_2)\n"
      ],
      "metadata": {
        "id": "il2_roSRL4tr"
      },
      "execution_count": null,
      "outputs": []
    },
    {
      "cell_type": "code",
      "source": [
        "Embedding_Domain_2_Doc_3_sum = np.sum(Embedding_Domain_2_Doc_3, axis=0)\n",
        "Embedding_Domain_2_Doc_3_sum_avg=Embedding_Domain_2_Doc_3_sum/len(Embedding_Domain_2_Doc_3)\n"
      ],
      "metadata": {
        "id": "bFNWuXW_L_YQ"
      },
      "execution_count": null,
      "outputs": []
    },
    {
      "cell_type": "code",
      "source": [
        "Embedding_Domain_2_Doc_4_sum = np.sum(Embedding_Domain_2_Doc_4, axis=0)\n",
        "Embedding_Domain_2_Doc_4_sum_avg=Embedding_Domain_2_Doc_4_sum/len(Embedding_Domain_2_Doc_4)\n"
      ],
      "metadata": {
        "id": "eMo4oK6mMAR8"
      },
      "execution_count": null,
      "outputs": []
    },
    {
      "cell_type": "markdown",
      "source": [
        "# Average Domain_3"
      ],
      "metadata": {
        "id": "XwWC4EdNK5px"
      }
    },
    {
      "cell_type": "code",
      "source": [
        "Embedding_Domain_3_Doc_1_sum = np.sum(Embedding_Domain_3_Doc_1, axis=0)\n",
        "Embedding_Domain_3_Doc_1_sum_avg=Embedding_Domain_3_Doc_1_sum/len(Embedding_Domain_3_Doc_1)\n"
      ],
      "metadata": {
        "id": "aGDj9bRxLmtU"
      },
      "execution_count": null,
      "outputs": []
    },
    {
      "cell_type": "code",
      "source": [
        "Embedding_Domain_3_Doc_2_sum = np.sum(Embedding_Domain_3_Doc_2, axis=0)\n",
        "Embedding_Domain_3_Doc_2_sum_avg=Embedding_Domain_3_Doc_2_sum/len(Embedding_Domain_3_Doc_2)\n"
      ],
      "metadata": {
        "id": "c_vurADSMKYx"
      },
      "execution_count": null,
      "outputs": []
    },
    {
      "cell_type": "code",
      "source": [
        "Embedding_Domain_3_Doc_3_sum = np.sum(Embedding_Domain_3_Doc_3, axis=0)\n",
        "Embedding_Domain_3_Doc_3_sum_avg=Embedding_Domain_3_Doc_3_sum/len(Embedding_Domain_3_Doc_3)\n"
      ],
      "metadata": {
        "id": "o9G2UryfMR87"
      },
      "execution_count": null,
      "outputs": []
    },
    {
      "cell_type": "code",
      "source": [
        "Embedding_Domain_3_Doc_4_sum = np.sum(Embedding_Domain_3_Doc_4, axis=0)\n",
        "Embedding_Domain_3_Doc_4_sum_avg=Embedding_Domain_3_Doc_4_sum/len(Embedding_Domain_3_Doc_4)\n"
      ],
      "metadata": {
        "id": "PcCn-DEMMTBK"
      },
      "execution_count": null,
      "outputs": []
    },
    {
      "cell_type": "markdown",
      "source": [
        "# Average Domain_4"
      ],
      "metadata": {
        "id": "GHPuonYLK8Ih"
      }
    },
    {
      "cell_type": "code",
      "source": [
        "Embedding_Domain_4_Doc_1_sum = np.sum(Embedding_Domain_4_Doc_1, axis=0)\n",
        "Embedding_Domain_4_Doc_1_sum_avg=Embedding_Domain_4_Doc_1_sum/len(Embedding_Domain_4_Doc_1)\n"
      ],
      "metadata": {
        "id": "wEJE1MEILsha"
      },
      "execution_count": null,
      "outputs": []
    },
    {
      "cell_type": "code",
      "source": [
        "Embedding_Domain_4_Doc_2_sum = np.sum(Embedding_Domain_4_Doc_2, axis=0)\n",
        "Embedding_Domain_4_Doc_2_sum_avg=Embedding_Domain_4_Doc_2_sum/len(Embedding_Domain_4_Doc_2)\n"
      ],
      "metadata": {
        "id": "ic5HnZJ-MgOe"
      },
      "execution_count": null,
      "outputs": []
    },
    {
      "cell_type": "code",
      "source": [
        "Embedding_Domain_4_Doc_3_sum = np.sum(Embedding_Domain_4_Doc_3, axis=0)\n",
        "Embedding_Domain_4_Doc_3_sum_avg=Embedding_Domain_4_Doc_3_sum/len(Embedding_Domain_4_Doc_3)\n"
      ],
      "metadata": {
        "id": "7Z7KeC4iMtdc"
      },
      "execution_count": null,
      "outputs": []
    },
    {
      "cell_type": "code",
      "source": [
        "Embedding_Domain_4_Doc_4_sum = np.sum(Embedding_Domain_4_Doc_4, axis=0)\n",
        "Embedding_Domain_4_Doc_4_sum_avg=Embedding_Domain_4_Doc_4_sum/len(Embedding_Domain_4_Doc_4)\n"
      ],
      "metadata": {
        "id": "CTlOChU0Msvi"
      },
      "execution_count": null,
      "outputs": []
    },
    {
      "cell_type": "markdown",
      "source": [
        "# Average Domain_5"
      ],
      "metadata": {
        "id": "UEdNbz5UK_g_"
      }
    },
    {
      "cell_type": "code",
      "source": [
        "Embedding_Domain_5_Doc_1_sum = np.sum(Embedding_Domain_5_Doc_1, axis=0)\n",
        "Embedding_Domain_5_Doc_1_sum_avg=Embedding_Domain_5_Doc_1_sum/len(Embedding_Domain_5_Doc_1)\n"
      ],
      "metadata": {
        "id": "FMsnmMZ9LyTc"
      },
      "execution_count": null,
      "outputs": []
    },
    {
      "cell_type": "code",
      "source": [
        "Embedding_Domain_5_Doc_2_sum = np.sum(Embedding_Domain_5_Doc_2, axis=0)\n",
        "Embedding_Domain_5_Doc_2_sum_avg=Embedding_Domain_5_Doc_2_sum/len(Embedding_Domain_5_Doc_2)\n"
      ],
      "metadata": {
        "id": "Qpo1d4UeM4ZN"
      },
      "execution_count": null,
      "outputs": []
    },
    {
      "cell_type": "code",
      "source": [
        "Embedding_Domain_5_Doc_3_sum = np.sum(Embedding_Domain_5_Doc_3, axis=0)\n",
        "Embedding_Domain_5_Doc_3_sum_avg=Embedding_Domain_5_Doc_3_sum/len(Embedding_Domain_5_Doc_3)\n"
      ],
      "metadata": {
        "id": "HCOkYxavM-jo"
      },
      "execution_count": null,
      "outputs": []
    },
    {
      "cell_type": "code",
      "source": [
        "Embedding_Domain_5_Doc_4_sum = np.sum(Embedding_Domain_5_Doc_4, axis=0)\n",
        "Embedding_Domain_5_Doc_4_sum_avg=Embedding_Domain_5_Doc_4_sum/len(Embedding_Domain_5_Doc_4)\n"
      ],
      "metadata": {
        "id": "LKE4JB8NM_Z9"
      },
      "execution_count": null,
      "outputs": []
    },
    {
      "cell_type": "code",
      "source": [
        "Embedding_Domain_5_Doc_4_sum_avg[0]"
      ],
      "metadata": {
        "colab": {
          "base_uri": "https://localhost:8080/"
        },
        "id": "gluKVvXQ9-vR",
        "outputId": "07a62f24-b0f8-4541-bfa3-ae5e28eb6d19"
      },
      "execution_count": null,
      "outputs": [
        {
          "output_type": "execute_result",
          "data": {
            "text/plain": [
              "-0.009121712"
            ]
          },
          "metadata": {},
          "execution_count": 81
        }
      ]
    },
    {
      "cell_type": "markdown",
      "source": [
        "# Testing_Election"
      ],
      "metadata": {
        "id": "M7uDNzMCNXsM"
      }
    },
    {
      "cell_type": "code",
      "source": [
        "test_text=\"In the lead-up to the 2022 Australian federal election, a number of polling companies have been conducting regular opinion polls for various news organisations. These polls collected data on parties' primary vote, and contained an estimation of the two-party-preferred vote. They also asked questions about the electorates' views on major party leaders. Key polling companies are YouGov, Essential Media Communications, Roy Morgan Research, and Resolve Strategic.Ipsos polls used to be published in The Sydney Morning Herald, The Age, and the Australian Financial Review;[1][2] however following the shock result of the 2019 Australian federal election, when the Coalition won the election against all of the opinion polls' predictions, the Nine Entertainment group decided to discontinue its relationship with Ipsos.[3] The newspapers did not report any political polling until 4 April 2022,[4] but continued to report the results of other Ipsos polls.[5]\"\n"
      ],
      "metadata": {
        "id": "I8hPrcKfNeZ-"
      },
      "execution_count": null,
      "outputs": []
    },
    {
      "cell_type": "code",
      "source": [
        "type(test_text)"
      ],
      "metadata": {
        "colab": {
          "base_uri": "https://localhost:8080/"
        },
        "id": "mbzEXLHZVf4P",
        "outputId": "9a382960-007c-49c2-b372-71ba939b4099"
      },
      "execution_count": null,
      "outputs": [
        {
          "output_type": "execute_result",
          "data": {
            "text/plain": [
              "str"
            ]
          },
          "metadata": {},
          "execution_count": 83
        }
      ]
    },
    {
      "cell_type": "code",
      "source": [
        "test_tokanized=[]\n",
        "test_tokanized=tokenize(test_text)"
      ],
      "metadata": {
        "id": "-uwN4eGMNrNO"
      },
      "execution_count": null,
      "outputs": []
    },
    {
      "cell_type": "code",
      "source": [
        "Embedding_test=[]\n",
        "for i in range(len(test_tokanized)):\n",
        "  if test_tokanized[i] in wv:\n",
        "    Embedding_test.append(wv[test_tokanized[i]])"
      ],
      "metadata": {
        "id": "Z4g7HAqLOIJt"
      },
      "execution_count": null,
      "outputs": []
    },
    {
      "cell_type": "code",
      "source": [
        "Embedding_test_sum = np.sum(Embedding_test, axis=0)\n",
        "Embedding_test_sum_avg=Embedding_test_sum/len(Embedding_test)"
      ],
      "metadata": {
        "id": "HspXZy3dOuFz"
      },
      "execution_count": null,
      "outputs": []
    },
    {
      "cell_type": "markdown",
      "source": [
        "# Testing_Medical"
      ],
      "metadata": {
        "id": "5zfyDsFeSyC5"
      }
    },
    {
      "cell_type": "code",
      "source": [
        "test_text_2=\"MDC is a population-based prospective cohort study consisting of 28 098 individuals who attended baseline examination between 1991 and 1996. We had previously included a random sample of 3833 participants from the MDC cardiovascular cohort [9], and out of these, 2684 had information on adherence to a previously derived data-driven healthy food pattern [6]. After exclusion of participants with prevalent coronary artery disease (CAD) (n = 0) or prevalent type 1 or type 2 diabetes (n = 138), missing data on alcohol intake (n = 1) or smoking status (n = 7), or unknown vital status due to emigration (n = 17), 2521 individuals remained and were used in the statistical analyses.\""
      ],
      "metadata": {
        "id": "aDSmTxJSSPap"
      },
      "execution_count": null,
      "outputs": []
    },
    {
      "cell_type": "code",
      "source": [
        "type(test_text_2)"
      ],
      "metadata": {
        "colab": {
          "base_uri": "https://localhost:8080/"
        },
        "id": "nS89r1zdVldE",
        "outputId": "bc564d0b-8c12-4ef1-8980-85395bf18e9f"
      },
      "execution_count": null,
      "outputs": [
        {
          "output_type": "execute_result",
          "data": {
            "text/plain": [
              "str"
            ]
          },
          "metadata": {},
          "execution_count": 88
        }
      ]
    },
    {
      "cell_type": "code",
      "source": [
        "test_tokanized_2=[]\n",
        "test_tokanized_2=tokenize(test_text_2)"
      ],
      "metadata": {
        "id": "MpoR9XFaSUX7"
      },
      "execution_count": null,
      "outputs": []
    },
    {
      "cell_type": "code",
      "source": [
        "Embedding_test_2=[]\n",
        "for i in range(len(test_tokanized_2)):\n",
        "  if test_tokanized_2[i] in wv:\n",
        "    Embedding_test_2.append(wv[test_tokanized_2[i]])"
      ],
      "metadata": {
        "id": "RMISki-YSe-j"
      },
      "execution_count": null,
      "outputs": []
    },
    {
      "cell_type": "code",
      "source": [
        "Embedding_test_sum_2 = np.sum(Embedding_test_2, axis=0)\n",
        "Embedding_test_sum_avg_2=Embedding_test_sum_2/len(Embedding_test_2)"
      ],
      "metadata": {
        "id": "Uvvo7dtVSl4y"
      },
      "execution_count": null,
      "outputs": []
    },
    {
      "cell_type": "markdown",
      "source": [
        "# Testing_Film_Frozen"
      ],
      "metadata": {
        "id": "6PVj8z_BYaIQ"
      }
    },
    {
      "cell_type": "code",
      "source": [
        "test_text_3=\"Frozen is a 2013 American computer-animated musical fantasy film produced by Walt Disney Animation Studios and released by Walt Disney Pictures.[5] The 53rd Disney animated feature film, it is inspired by Hans Christian Andersen's fairy tale  The film depicts a princess who sets off on a journey alongside an iceman, his reindeer, and a snowman to find her estranged sister, whose icy powers have inadvertently trapped their kingdom in eternal winter.Frozen underwent several story treatments before being commissioned in 2011 as a screenplay by Jennifer Lee, who co-directed with Chris Buck. The film features the voices of Kristen Bell, Idina Menzel, Jonathan Groff, Josh Gad, and Santino Fontana. Christophe Beck was hired to compose the film's orchestral score, while Robert Lopez and Kristen Anderson-Lopez wrote the songs. Frozen had its general theatrical release on November 27, 2013. It was praised for its visuals, screenplay, themes, music, and voice acting; some film critics consider Frozen to be Disney's best animated film since the studio's renaissance era. Frozen received two awards at the 86th Academy Awards, and numerous accolades.During its theatrical run, the film was a significant commercial success, earning $1.280 billion in worldwide box office revenue, overtaking Toy Story 3 to become the highest-grossing animated film of all time, and carried its position until it was overtaken by the remake of The Lion King in 2019. It also became the fifth highest-grossing film of all time and the highest-grossing film of 2013. By January 2015, the film became the best-selling Blu-ray Disc in the United States, which resulted in the film launching a franchise, including an animated short in 2015, an animated featurette in 2017, and a feature-length sequel, Frozen II, in November 2019.\""
      ],
      "metadata": {
        "id": "0qPoCGGTYfMt"
      },
      "execution_count": null,
      "outputs": []
    },
    {
      "cell_type": "code",
      "source": [
        "test_tokanized_3=[]\n",
        "test_tokanized_3=tokenize(test_text_3)"
      ],
      "metadata": {
        "id": "QvtXK0u0Yt0Q"
      },
      "execution_count": null,
      "outputs": []
    },
    {
      "cell_type": "code",
      "source": [
        "Embedding_test_3=[]\n",
        "for i in range(len(test_tokanized_3)):\n",
        "  if test_tokanized_3[i] in wv:\n",
        "    Embedding_test_3.append(wv[test_tokanized_3[i]])"
      ],
      "metadata": {
        "id": "UgpZTqjjYyEI"
      },
      "execution_count": null,
      "outputs": []
    },
    {
      "cell_type": "code",
      "source": [
        "Embedding_test_sum_3 = np.sum(Embedding_test_3, axis=0)\n",
        "Embedding_test_sum_avg_3=Embedding_test_sum_3/len(Embedding_test_3)"
      ],
      "metadata": {
        "id": "iI-C0IcAY5_Q"
      },
      "execution_count": null,
      "outputs": []
    },
    {
      "cell_type": "markdown",
      "source": [
        "# Testing_Computer_Science"
      ],
      "metadata": {
        "id": "LzMXMZ4aZpo0"
      }
    },
    {
      "cell_type": "code",
      "source": [
        "test_text_4=\"Computer science emerged as an independent discipline in the early 1960s, although the electronic digital computer that is the object of its study was invented some two decades earlier. The roots of computer science lie primarily in the related fields of mathematics, electrical engineering, physics, and management information systems.Mathematics is the source of two key concepts in the development of the computer—the idea that all information can be represented as sequences of zeros and ones and the abstract notion of a “stored program.” In the binary number system, numbers are represented by a sequence of the binary digits 0 and 1 in the same way that numbers in the familiar decimal system are represented using the digits 0 through 9. The relative ease with which two states (e.g., high and low voltage) can be realized in electrical and electronic devices led naturally to the binary digit, or bit, becoming the basic unit of data storage and transmission in a computer system.\""
      ],
      "metadata": {
        "id": "8Kb1jo1WZqXa"
      },
      "execution_count": null,
      "outputs": []
    },
    {
      "cell_type": "code",
      "source": [
        "test_tokanized_4=[]\n",
        "test_tokanized_4=tokenize(test_text_4)"
      ],
      "metadata": {
        "id": "Nj3RTsVsZ1zK"
      },
      "execution_count": null,
      "outputs": []
    },
    {
      "cell_type": "code",
      "source": [
        "Embedding_test_4=[]\n",
        "for i in range(len(test_tokanized_4)):\n",
        "  if test_tokanized_4[i] in wv:\n",
        "    Embedding_test_4.append(wv[test_tokanized_4[i]])"
      ],
      "metadata": {
        "id": "RT7npjZKZ3yv"
      },
      "execution_count": null,
      "outputs": []
    },
    {
      "cell_type": "code",
      "source": [
        "Embedding_test_sum_4 = np.sum(Embedding_test_4, axis=0)\n",
        "Embedding_test_sum_avg_4=Embedding_test_sum_4/len(Embedding_test_4)"
      ],
      "metadata": {
        "id": "1IAss3ikZ5it"
      },
      "execution_count": null,
      "outputs": []
    },
    {
      "cell_type": "markdown",
      "source": [
        "# Adding All Embedding Docs (Average)"
      ],
      "metadata": {
        "id": "NX4AOhrERG2Y"
      }
    },
    {
      "cell_type": "code",
      "source": [
        "Embedding_All_docs_avg = np.zeros((20, 300))\n",
        "\n",
        "for i in range(300):\n",
        "  # print(\"Avrage-----------------------\",Embedding_Domain_1_Doc_1_sum_avg[0])\n",
        "  Embedding_All_docs_avg[0][i]=(Embedding_Domain_1_Doc_1_sum_avg[i])\n",
        "  # print(\"hhhhhhhhhhhhhhhhhhhhhhhhhhhhhhhhhhh\",Embedding_All_docs_avg[0][0])\n",
        "\n",
        "for i in range(300):\n",
        "  Embedding_All_docs_avg[1][i]=(Embedding_Domain_1_Doc_2_sum_avg[i])\n",
        "\n",
        "for i in range(300):\n",
        "  Embedding_All_docs_avg[2][i]=(Embedding_Domain_1_Doc_3_sum_avg[i])\n",
        "\n",
        "for i in range(300):\n",
        "  Embedding_All_docs_avg[3][i]=(Embedding_Domain_1_Doc_4_sum_avg[i])\n",
        "  "
      ],
      "metadata": {
        "id": "O2zH6TRcROWp"
      },
      "execution_count": null,
      "outputs": []
    },
    {
      "cell_type": "code",
      "source": [
        "for i in range(300):\n",
        "  Embedding_All_docs_avg[4][i]=(Embedding_Domain_2_Doc_1_sum_avg[i])\n",
        "\n",
        "for i in range(300):\n",
        "  Embedding_All_docs_avg[5][i]=(Embedding_Domain_2_Doc_2_sum_avg[i])\n",
        "\n",
        "for i in range(300):\n",
        "  Embedding_All_docs_avg[6][i]=(Embedding_Domain_2_Doc_3_sum_avg[i])\n",
        "\n",
        "for i in range(300):\n",
        "  Embedding_All_docs_avg[7][i]=(Embedding_Domain_2_Doc_4_sum_avg[i])"
      ],
      "metadata": {
        "id": "sWCls7dI9IWy"
      },
      "execution_count": null,
      "outputs": []
    },
    {
      "cell_type": "code",
      "source": [
        "for i in range(300):\n",
        "  Embedding_All_docs_avg[8][i]=(Embedding_Domain_3_Doc_1_sum_avg[i])\n",
        "\n",
        "for i in range(300):\n",
        "  Embedding_All_docs_avg[9][i]=(Embedding_Domain_3_Doc_2_sum_avg[i])\n",
        "\n",
        "for i in range(300):\n",
        "  Embedding_All_docs_avg[10][i]=(Embedding_Domain_3_Doc_3_sum_avg[i])\n",
        "\n",
        "for i in range(300):\n",
        "  Embedding_All_docs_avg[11][i]=(Embedding_Domain_3_Doc_4_sum_avg[i])"
      ],
      "metadata": {
        "id": "7A6VgfgZ9MhA"
      },
      "execution_count": null,
      "outputs": []
    },
    {
      "cell_type": "code",
      "source": [
        "for i in range(300):\n",
        "  Embedding_All_docs_avg[12][i]=(Embedding_Domain_4_Doc_1_sum_avg[i])\n",
        "\n",
        "for i in range(300):\n",
        "  Embedding_All_docs_avg[13][i]=(Embedding_Domain_4_Doc_2_sum_avg[i])\n",
        "\n",
        "for i in range(300):\n",
        "  Embedding_All_docs_avg[14][i]=(Embedding_Domain_4_Doc_3_sum_avg[i])\n",
        "\n",
        "for i in range(300):\n",
        "  Embedding_All_docs_avg[15][i]=(Embedding_Domain_4_Doc_4_sum_avg[i])"
      ],
      "metadata": {
        "id": "KRtZzH1T9QhE"
      },
      "execution_count": null,
      "outputs": []
    },
    {
      "cell_type": "code",
      "source": [
        "for i in range(300):\n",
        "  Embedding_All_docs_avg[16][i]=(Embedding_Domain_5_Doc_1_sum_avg[i])\n",
        "\n",
        "for i in range(300):\n",
        "  Embedding_All_docs_avg[17][i]=(Embedding_Domain_5_Doc_2_sum_avg[i])\n",
        "\n",
        "for i in range(300):\n",
        "  Embedding_All_docs_avg[18][i]=(Embedding_Domain_5_Doc_3_sum_avg[i])\n",
        "\n",
        "for i in range(300):\n",
        "  Embedding_All_docs_avg[19][i]=(Embedding_Domain_5_Doc_4_sum_avg[i])"
      ],
      "metadata": {
        "id": "F9f7WjbD9UYc"
      },
      "execution_count": null,
      "outputs": []
    },
    {
      "cell_type": "code",
      "source": [
        "# convert dictionary into string\n",
        "result_model1 = str(Embedding_All_docs_avg)\n",
        "\n",
        "# print resulting string\n",
        "print (\"\\n\", type(result_model1))\n",
        "\n",
        "# Open a file with access mode 'a'\n",
        "file_object_model1 = open('/content/sample_data/Embeddings/total_embedding_avg_Model_1.txt', 'a')\n",
        "# Append 'hello' at the end of file\n",
        "file_object_model1.write(result_model1)\n",
        "# Close the file\n",
        "file_object_model1.close()\n"
      ],
      "metadata": {
        "colab": {
          "base_uri": "https://localhost:8080/"
        },
        "id": "7ZKsAyjLA3s_",
        "outputId": "5e4ef27a-8bd5-4c0d-e506-9b6f8ecce898"
      },
      "execution_count": null,
      "outputs": [
        {
          "output_type": "stream",
          "name": "stdout",
          "text": [
            "\n",
            " <class 'str'>\n"
          ]
        }
      ]
    },
    {
      "cell_type": "code",
      "source": [
        "len(Embedding_All_docs_avg)"
      ],
      "metadata": {
        "colab": {
          "base_uri": "https://localhost:8080/"
        },
        "id": "4rM2Nykm9dSO",
        "outputId": "970bcfe4-def3-4a7c-9817-0520317eeac0"
      },
      "execution_count": null,
      "outputs": [
        {
          "output_type": "execute_result",
          "data": {
            "text/plain": [
              "20"
            ]
          },
          "metadata": {},
          "execution_count": 105
        }
      ]
    },
    {
      "cell_type": "code",
      "source": [
        "len(Embedding_All_docs_avg[0])"
      ],
      "metadata": {
        "colab": {
          "base_uri": "https://localhost:8080/"
        },
        "id": "EuePAaX39pmg",
        "outputId": "147a7b79-ea10-4810-f010-e517bec7b95c"
      },
      "execution_count": null,
      "outputs": [
        {
          "output_type": "execute_result",
          "data": {
            "text/plain": [
              "300"
            ]
          },
          "metadata": {},
          "execution_count": 106
        }
      ]
    },
    {
      "cell_type": "markdown",
      "source": [
        "# Similarity for test_1"
      ],
      "metadata": {
        "id": "I5ZBrAfuPA3w"
      }
    },
    {
      "cell_type": "code",
      "source": [
        "from numpy import dot\n",
        "from numpy.linalg import norm"
      ],
      "metadata": {
        "id": "uYZIl7EoJ6HX"
      },
      "execution_count": null,
      "outputs": []
    },
    {
      "cell_type": "code",
      "source": [
        "cos_sim_total_1 = []\n",
        "for i in range (len(Embedding_All_docs_avg)):\n",
        "  cos_sim_total_1 .append(dot(Embedding_test_sum_avg, Embedding_All_docs_avg[i])/(norm(Embedding_test_sum_avg)*norm(Embedding_All_docs_avg[i])))"
      ],
      "metadata": {
        "id": "OX_TgpBX9wg1"
      },
      "execution_count": null,
      "outputs": []
    },
    {
      "cell_type": "code",
      "source": [
        "cos_sim_total_1"
      ],
      "metadata": {
        "colab": {
          "base_uri": "https://localhost:8080/"
        },
        "id": "buTIRcYRBcZ6",
        "outputId": "5787c73c-a91f-42f7-80e2-beab06e42591"
      },
      "execution_count": null,
      "outputs": [
        {
          "output_type": "execute_result",
          "data": {
            "text/plain": [
              "[0.6977215206600647,\n",
              " 0.726937067855056,\n",
              " 0.7149306547527832,\n",
              " 0.7806195002341891,\n",
              " 0.5998127171557394,\n",
              " 0.605029956269824,\n",
              " 0.6484597905601851,\n",
              " 0.699240729522385,\n",
              " 0.9105452351508828,\n",
              " 0.9167274582536664,\n",
              " 0.8799537294829455,\n",
              " 0.877992961435381,\n",
              " 0.738790882596422,\n",
              " 0.6434788911765559,\n",
              " 0.6381733057633976,\n",
              " 0.7672190835033361,\n",
              " 0.7081055255923225,\n",
              " 0.7196056461007347,\n",
              " 0.7572159902125546,\n",
              " 0.7278607573378816]"
            ]
          },
          "metadata": {},
          "execution_count": 109
        }
      ]
    },
    {
      "cell_type": "code",
      "source": [
        "Domain_Names=['D1_ComputerScience_Doc_1','D1_ComputerScience_Doc_2','D1_ComputerScience_Doc_3',\n",
        "              'D1_ComputerScience_Doc_4',\n",
        "                'D2_Cuisine_Doc_1','D2_Cuisine_Doc_2','D2_Cuisine_Doc_3','D2_Cuisine_Doc_4',\n",
        "                'D3_Election_Doc_1','D3_Election_Doc_2','D3_Election_Doc_3','D3_Election_Doc_4',\n",
        "                'D4_Medical_Doc_1','D4_Medical_Doc_2','D4_Medical_Doc_3','D4_Medical_Doc_4',\n",
        "                'D5_Sport_Doc_1','D5_Sport_Doc_2','D5_Sport_Doc_3','D5_Sport_Doc_4']"
      ],
      "metadata": {
        "id": "gE-Xw-E1HKMr"
      },
      "execution_count": null,
      "outputs": []
    },
    {
      "cell_type": "code",
      "source": [
        "import heapq\n",
        "heapq.nlargest(3, zip(cos_sim_total_1, Domain_Names))\n"
      ],
      "metadata": {
        "colab": {
          "base_uri": "https://localhost:8080/"
        },
        "id": "BaYteIfRIY0M",
        "outputId": "068abb12-8960-417f-af07-129cf6221bcc"
      },
      "execution_count": null,
      "outputs": [
        {
          "output_type": "execute_result",
          "data": {
            "text/plain": [
              "[(0.9167274582536664, 'D3_Election_Doc_2'),\n",
              " (0.9105452351508828, 'D3_Election_Doc_1'),\n",
              " (0.8799537294829455, 'D3_Election_Doc_3')]"
            ]
          },
          "metadata": {},
          "execution_count": 111
        }
      ]
    },
    {
      "cell_type": "markdown",
      "source": [
        "# Similarity for test_2"
      ],
      "metadata": {
        "id": "GdXYA270WKzU"
      }
    },
    {
      "cell_type": "code",
      "source": [
        "cos_sim_total_2 = []\n",
        "for i in range (len(Embedding_All_docs_avg)):\n",
        "  cos_sim_total_2 .append(dot(Embedding_test_sum_avg_2, Embedding_All_docs_avg[i])/(norm(Embedding_test_sum_avg_2)*norm(Embedding_All_docs_avg[i])))"
      ],
      "metadata": {
        "id": "WlSP81w-GWDK"
      },
      "execution_count": null,
      "outputs": []
    },
    {
      "cell_type": "code",
      "source": [
        "cos_sim_total_2"
      ],
      "metadata": {
        "colab": {
          "base_uri": "https://localhost:8080/"
        },
        "id": "BHNz86A1WoSi",
        "outputId": "71bdf393-b39e-45b5-e00d-702e5a83ba2b"
      },
      "execution_count": null,
      "outputs": [
        {
          "output_type": "execute_result",
          "data": {
            "text/plain": [
              "[0.7730919497673139,\n",
              " 0.7464762976259623,\n",
              " 0.7982889600866829,\n",
              " 0.7981424678868928,\n",
              " 0.6518765697505986,\n",
              " 0.6524944099331167,\n",
              " 0.6944131090559128,\n",
              " 0.71592650790031,\n",
              " 0.7162502853976596,\n",
              " 0.7092574643022184,\n",
              " 0.7247011311652483,\n",
              " 0.6765056281692121,\n",
              " 0.7969173090856206,\n",
              " 0.8681637523891759,\n",
              " 0.833542978986851,\n",
              " 0.7757253946088668,\n",
              " 0.7076111787101828,\n",
              " 0.66048802412977,\n",
              " 0.7134871498052692,\n",
              " 0.640181593752981]"
            ]
          },
          "metadata": {},
          "execution_count": 113
        }
      ]
    },
    {
      "cell_type": "code",
      "source": [
        "heapq.nlargest(3, zip(cos_sim_total_2, Domain_Names))"
      ],
      "metadata": {
        "colab": {
          "base_uri": "https://localhost:8080/"
        },
        "id": "wkljX87QW78S",
        "outputId": "b1819f92-c6fe-4213-9f17-857ed6ecc2a4"
      },
      "execution_count": null,
      "outputs": [
        {
          "output_type": "execute_result",
          "data": {
            "text/plain": [
              "[(0.8681637523891759, 'D4_Medical_Doc_2'),\n",
              " (0.833542978986851, 'D4_Medical_Doc_3'),\n",
              " (0.7982889600866829, 'D1_ComputerScience_Doc_3')]"
            ]
          },
          "metadata": {},
          "execution_count": 114
        }
      ]
    },
    {
      "cell_type": "markdown",
      "source": [
        "# Similarity for test_3"
      ],
      "metadata": {
        "id": "quJpZYVaZE-N"
      }
    },
    {
      "cell_type": "code",
      "source": [
        "cos_sim_total_3 = []\n",
        "for i in range (len(Embedding_All_docs_avg)):\n",
        "  cos_sim_total_3 .append(dot(Embedding_test_sum_avg_3, Embedding_All_docs_avg[i])/(norm(Embedding_test_sum_avg_3)*norm(Embedding_All_docs_avg[i])))"
      ],
      "metadata": {
        "id": "_P5bR0BKW_19"
      },
      "execution_count": null,
      "outputs": []
    },
    {
      "cell_type": "code",
      "source": [
        "heapq.nlargest(3, zip(cos_sim_total_3, Domain_Names))"
      ],
      "metadata": {
        "colab": {
          "base_uri": "https://localhost:8080/"
        },
        "id": "Je3vO86NZQxh",
        "outputId": "91cadd9d-5a61-4ae9-e1a0-453cb843256d"
      },
      "execution_count": null,
      "outputs": [
        {
          "output_type": "execute_result",
          "data": {
            "text/plain": [
              "[(0.7812312875352141, 'D5_Sport_Doc_1'),\n",
              " (0.7803889687537785, 'D3_Election_Doc_3'),\n",
              " (0.7698725561954731, 'D5_Sport_Doc_3')]"
            ]
          },
          "metadata": {},
          "execution_count": 116
        }
      ]
    },
    {
      "cell_type": "markdown",
      "source": [
        "# Similarity for test_4"
      ],
      "metadata": {
        "id": "jz1Wwa38aN-g"
      }
    },
    {
      "cell_type": "code",
      "source": [
        "cos_sim_total_4 = []\n",
        "for i in range (len(Embedding_All_docs_avg)):\n",
        "  cos_sim_total_4 .append(dot(Embedding_test_sum_avg_4, Embedding_All_docs_avg[i])/(norm(Embedding_test_sum_avg_4)*norm(Embedding_All_docs_avg[i])))"
      ],
      "metadata": {
        "id": "adgGqbyZaOkB"
      },
      "execution_count": null,
      "outputs": []
    },
    {
      "cell_type": "code",
      "source": [
        "heapq.nlargest(4, zip(cos_sim_total_4, Domain_Names))"
      ],
      "metadata": {
        "colab": {
          "base_uri": "https://localhost:8080/"
        },
        "id": "GRUIPwRZaTnF",
        "outputId": "2ff3b425-492e-4190-de14-1b30b1da8f98"
      },
      "execution_count": null,
      "outputs": [
        {
          "output_type": "execute_result",
          "data": {
            "text/plain": [
              "[(0.9392910155668069, 'D1_ComputerScience_Doc_2'),\n",
              " (0.9034214572873187, 'D1_ComputerScience_Doc_3'),\n",
              " (0.9023600866864836, 'D1_ComputerScience_Doc_4'),\n",
              " (0.8980316317308891, 'D1_ComputerScience_Doc_1')]"
            ]
          },
          "metadata": {},
          "execution_count": 118
        }
      ]
    },
    {
      "cell_type": "code",
      "source": [
        ""
      ],
      "metadata": {
        "id": "KzUJSezLaaFC"
      },
      "execution_count": null,
      "outputs": []
    },
    {
      "cell_type": "markdown",
      "source": [
        "# Another Model"
      ],
      "metadata": {
        "id": "91wieHGOKTE0"
      }
    },
    {
      "cell_type": "code",
      "source": [
        "from gensim.models import Word2Vec, KeyedVectors\n",
        "from gensim.scripts.glove2word2vec import glove2word2vec\n",
        "from gensim.test.utils import datapath\n",
        "import multiprocessing"
      ],
      "metadata": {
        "id": "IVuTC-fWKVkn"
      },
      "execution_count": null,
      "outputs": []
    },
    {
      "cell_type": "code",
      "source": [
        "cores = multiprocessing.cpu_count()"
      ],
      "metadata": {
        "id": "vzV9RNkWKs5B"
      },
      "execution_count": null,
      "outputs": []
    },
    {
      "cell_type": "code",
      "source": [
        "total_embedding=np.zeros((20, 300))"
      ],
      "metadata": {
        "id": "T_hDaK6lYm7w"
      },
      "execution_count": null,
      "outputs": []
    },
    {
      "cell_type": "markdown",
      "source": [
        "# Domain_1"
      ],
      "metadata": {
        "id": "4MNami2uLhtg"
      }
    },
    {
      "cell_type": "code",
      "source": [
        "Domain_1_Doc_1 = [[x] for x in Domain_1_tokanized[0] if x != []]  # ['in']\n",
        "\n",
        "model_Domain_1_Doc_1 = Word2Vec(Domain_1_Doc_1,size=300,\n",
        "        window=3,\n",
        "        alpha=0.03,\n",
        "        min_count=1,\n",
        "         sg=0,\n",
        "       workers=cores-1)\n",
        "\n",
        "trained_Domain_1_Doc_1_vocab = list(model_Domain_1_Doc_1.wv.vocab)\n",
        "\n",
        "#_____________________________________________________________________________________________\n",
        "# Embedding Vector\n",
        "Embedding_D1_Doc_1=[]\n",
        "for j in trained_Domain_1_Doc_1_vocab:\n",
        "   Embedding_D1_Doc_1.append(model_Domain_1_Doc_1[j])\n",
        "\n",
        "#_____________________________________________________________________________________________\n",
        "# Average\n",
        "Embedding_D1_Doc_1_sum = np.sum(Embedding_D1_Doc_1, axis=0)\n",
        "Embedding_D1_Doc_1_avg=Embedding_D1_Doc_1_sum/len(Embedding_D1_Doc_1)"
      ],
      "metadata": {
        "colab": {
          "base_uri": "https://localhost:8080/"
        },
        "id": "hNWRuvwALVzY",
        "outputId": "14f1aac5-3715-4d54-a07c-0e1ae5e36eca"
      },
      "execution_count": null,
      "outputs": [
        {
          "output_type": "stream",
          "name": "stderr",
          "text": [
            "/usr/local/lib/python3.7/dist-packages/ipykernel_launcher.py:16: DeprecationWarning: Call to deprecated `__getitem__` (Method will be removed in 4.0.0, use self.wv.__getitem__() instead).\n",
            "  app.launch_new_instance()\n"
          ]
        }
      ]
    },
    {
      "cell_type": "code",
      "source": [
        "# Save Embedding\n",
        "my_trained_vectors_D1_Doc_1 = model_Domain_1_Doc_1.wv\n",
        "my_trained_vectors_D1_Doc_1.save_word2vec_format('/content/sample_data/Embeddings/model_Domain_1_Doc_1.txt', binary=False)\n"
      ],
      "metadata": {
        "id": "xW7DmftV7cTm"
      },
      "execution_count": null,
      "outputs": []
    },
    {
      "cell_type": "code",
      "source": [
        "Domain_1_Doc_2 = [[x] for x in Domain_1_tokanized[1] if x != []]  \n",
        "\n",
        "model_Domain_1_Doc_2 = Word2Vec(Domain_1_Doc_2,size=300,\n",
        "        window=3,\n",
        "        alpha=0.03,\n",
        "        min_count=1,\n",
        "         sg=0,\n",
        "       workers=cores-1)\n",
        "\n",
        "trained_Domain_1_Doc_2_vocab = list(model_Domain_1_Doc_2.wv.vocab)\n",
        "\n",
        "#_____________________________________________________________________________________________\n",
        "# Embedding Vector\n",
        "Embedding_D1_Doc_2=[]\n",
        "for j in trained_Domain_1_Doc_2_vocab:\n",
        "   Embedding_D1_Doc_2.append(model_Domain_1_Doc_2[j])\n",
        "\n",
        "\n",
        "#______________________________________________________________________________________________\n",
        "# Average\n",
        "Embedding_D1_Doc_2_sum = np.sum(Embedding_D1_Doc_2, axis=0)\n",
        "Embedding_D1_Doc_2_avg=Embedding_D1_Doc_2_sum/len(Embedding_D1_Doc_2)"
      ],
      "metadata": {
        "colab": {
          "base_uri": "https://localhost:8080/"
        },
        "id": "0aRRsCWDbErd",
        "outputId": "ab620d9f-8ac2-4e82-b490-58fe9a0f2fb3"
      },
      "execution_count": null,
      "outputs": [
        {
          "output_type": "stream",
          "name": "stderr",
          "text": [
            "/usr/local/lib/python3.7/dist-packages/ipykernel_launcher.py:16: DeprecationWarning: Call to deprecated `__getitem__` (Method will be removed in 4.0.0, use self.wv.__getitem__() instead).\n",
            "  app.launch_new_instance()\n"
          ]
        }
      ]
    },
    {
      "cell_type": "code",
      "source": [
        "# Save Embedding\n",
        "my_trained_vectors_D1_Doc_2 = model_Domain_1_Doc_2.wv\n",
        "my_trained_vectors_D1_Doc_2.save_word2vec_format('/content/sample_data/Embeddings/model_Domain_1_Doc_2.txt', binary=False)\n"
      ],
      "metadata": {
        "id": "Zz2VG5ZL88sV"
      },
      "execution_count": null,
      "outputs": []
    },
    {
      "cell_type": "code",
      "source": [
        "Domain_1_Doc_3 = [[x] for x in Domain_1_tokanized[2] if x != []]  \n",
        "\n",
        "model_Domain_1_Doc_3 = Word2Vec(Domain_1_Doc_3,size=300,\n",
        "        window=3,\n",
        "        alpha=0.03,\n",
        "        min_count=1,\n",
        "         sg=0,\n",
        "       workers=cores-1)\n",
        "\n",
        "trained_Domain_1_Doc_3_vocab = list(model_Domain_1_Doc_3.wv.vocab)\n",
        "\n",
        "#_____________________________________________________________________________________________\n",
        "# Embedding Vector\n",
        "Embedding_D1_Doc_3=[]\n",
        "for j in trained_Domain_1_Doc_3_vocab:\n",
        "   Embedding_D1_Doc_3.append(model_Domain_1_Doc_3[j])\n",
        "\n",
        "\n",
        "#______________________________________________________________________________________________\n",
        "# Average\n",
        "Embedding_D1_Doc_3_sum = np.sum(Embedding_D1_Doc_3, axis=0)\n",
        "Embedding_D1_Doc_3_avg=Embedding_D1_Doc_3_sum/len(Embedding_D1_Doc_3)"
      ],
      "metadata": {
        "colab": {
          "base_uri": "https://localhost:8080/"
        },
        "id": "8uCpSRVLcMrS",
        "outputId": "75d004ca-b1bf-4bf5-a1a6-4b7665f484a3"
      },
      "execution_count": null,
      "outputs": [
        {
          "output_type": "stream",
          "name": "stderr",
          "text": [
            "/usr/local/lib/python3.7/dist-packages/ipykernel_launcher.py:16: DeprecationWarning: Call to deprecated `__getitem__` (Method will be removed in 4.0.0, use self.wv.__getitem__() instead).\n",
            "  app.launch_new_instance()\n"
          ]
        }
      ]
    },
    {
      "cell_type": "code",
      "source": [
        "# Save Embedding\n",
        "my_trained_vectors_D1_Doc_3 = model_Domain_1_Doc_3.wv\n",
        "my_trained_vectors_D1_Doc_3.save_word2vec_format('/content/sample_data/Embeddings/model_Domain_1_Doc_3.txt', binary=False)\n"
      ],
      "metadata": {
        "id": "ioh92zEJ9Lq5"
      },
      "execution_count": null,
      "outputs": []
    },
    {
      "cell_type": "code",
      "source": [
        "Domain_1_Doc_4 = [[x] for x in Domain_1_tokanized[3] if x != []]  \n",
        "\n",
        "model_Domain_1_Doc_4 = Word2Vec(Domain_1_Doc_4,size=300,\n",
        "        window=3,\n",
        "        alpha=0.03,\n",
        "        min_count=1,\n",
        "         sg=0,\n",
        "       workers=cores-1)\n",
        "\n",
        "trained_Domain_1_Doc_4_vocab = list(model_Domain_1_Doc_4.wv.vocab)\n",
        "\n",
        "#_____________________________________________________________________________________________\n",
        "# Embedding Vector\n",
        "Embedding_D1_Doc_4=[]\n",
        "for j in trained_Domain_1_Doc_4_vocab:\n",
        "   Embedding_D1_Doc_4.append(model_Domain_1_Doc_4[j])\n",
        "\n",
        "\n",
        "#______________________________________________________________________________________________\n",
        "# Average\n",
        "Embedding_D1_Doc_4_sum = np.sum(Embedding_D1_Doc_4, axis=0)\n",
        "Embedding_D1_Doc_4_avg=Embedding_D1_Doc_4_sum/len(Embedding_D1_Doc_4)"
      ],
      "metadata": {
        "colab": {
          "base_uri": "https://localhost:8080/"
        },
        "id": "i-vRcpxtcf3l",
        "outputId": "24d53bd2-f767-4e7f-b738-345e397f989c"
      },
      "execution_count": null,
      "outputs": [
        {
          "output_type": "stream",
          "name": "stderr",
          "text": [
            "/usr/local/lib/python3.7/dist-packages/ipykernel_launcher.py:16: DeprecationWarning: Call to deprecated `__getitem__` (Method will be removed in 4.0.0, use self.wv.__getitem__() instead).\n",
            "  app.launch_new_instance()\n"
          ]
        }
      ]
    },
    {
      "cell_type": "code",
      "source": [
        "# Save Embedding\n",
        "my_trained_vectors_D1_Doc_4 = model_Domain_1_Doc_4.wv\n",
        "my_trained_vectors_D1_Doc_4.save_word2vec_format('/content/sample_data/Embeddings/model_Domain_1_Doc_4.txt', binary=False)\n"
      ],
      "metadata": {
        "id": "LGycGvfZ9SmU"
      },
      "execution_count": null,
      "outputs": []
    },
    {
      "cell_type": "markdown",
      "source": [
        "# Domain_2"
      ],
      "metadata": {
        "id": "B1JRpXGAczh9"
      }
    },
    {
      "cell_type": "code",
      "source": [
        "Domain_2_Doc_1 = [[x] for x in Domain_2_tokanized[0] if x != []]  # ['in']\n",
        "\n",
        "model_Domain_2_Doc_1 = Word2Vec(Domain_2_Doc_1,size=300,\n",
        "        window=3,\n",
        "        alpha=0.03,\n",
        "        min_count=1,\n",
        "         sg=0,\n",
        "       workers=cores-1)\n",
        "\n",
        "trained_Domain_2_Doc_1_vocab = list(model_Domain_2_Doc_1.wv.vocab)\n",
        "\n",
        "#_____________________________________________________________________________________________\n",
        "# Embedding Vector\n",
        "Embedding_D2_Doc_1=[]\n",
        "for j in trained_Domain_2_Doc_1_vocab:\n",
        "   Embedding_D2_Doc_1.append(model_Domain_2_Doc_1[j])\n",
        "\n",
        "#_____________________________________________________________________________________________\n",
        "# Average\n",
        "Embedding_D2_Doc_1_sum = np.sum(Embedding_D2_Doc_1, axis=0)\n",
        "Embedding_D2_Doc_1_avg=Embedding_D2_Doc_1_sum/len(Embedding_D2_Doc_1)"
      ],
      "metadata": {
        "colab": {
          "base_uri": "https://localhost:8080/"
        },
        "id": "vrtU9AS4c3jW",
        "outputId": "98534c93-2653-456a-d4d1-68364fe600b5"
      },
      "execution_count": null,
      "outputs": [
        {
          "output_type": "stream",
          "name": "stderr",
          "text": [
            "/usr/local/lib/python3.7/dist-packages/ipykernel_launcher.py:16: DeprecationWarning: Call to deprecated `__getitem__` (Method will be removed in 4.0.0, use self.wv.__getitem__() instead).\n",
            "  app.launch_new_instance()\n"
          ]
        }
      ]
    },
    {
      "cell_type": "code",
      "source": [
        "# Save Embedding\n",
        "my_trained_vectors_D2_Doc_1 = model_Domain_2_Doc_1.wv\n",
        "my_trained_vectors_D2_Doc_1.save_word2vec_format('/content/sample_data/Embeddings/model_Domain_2_Doc_1.txt', binary=False)\n"
      ],
      "metadata": {
        "id": "2YTJrAfL9ci9"
      },
      "execution_count": null,
      "outputs": []
    },
    {
      "cell_type": "code",
      "source": [
        "Domain_2_Doc_2 = [[x] for x in Domain_2_tokanized[1] if x != []]  # ['in']\n",
        "\n",
        "model_Domain_2_Doc_2 = Word2Vec(Domain_2_Doc_2,size=300,\n",
        "        window=3,\n",
        "        alpha=0.03,\n",
        "        min_count=1,\n",
        "         sg=0,\n",
        "       workers=cores-1)\n",
        "\n",
        "trained_Domain_2_Doc_2_vocab = list(model_Domain_2_Doc_2.wv.vocab)\n",
        "\n",
        "#_____________________________________________________________________________________________\n",
        "# Embedding Vector\n",
        "Embedding_D2_Doc_2=[]\n",
        "for j in trained_Domain_2_Doc_2_vocab:\n",
        "   Embedding_D2_Doc_2.append(model_Domain_2_Doc_2[j])\n",
        "\n",
        "#_____________________________________________________________________________________________\n",
        "# Average\n",
        "Embedding_D2_Doc_2_sum = np.sum(Embedding_D2_Doc_2, axis=0)\n",
        "Embedding_D2_Doc_2_avg=Embedding_D2_Doc_2_sum/len(Embedding_D2_Doc_2)"
      ],
      "metadata": {
        "colab": {
          "base_uri": "https://localhost:8080/"
        },
        "id": "2YA7Lw-Kc3T-",
        "outputId": "3c6e5c61-b82b-4239-85e9-533f94b2e5b5"
      },
      "execution_count": null,
      "outputs": [
        {
          "output_type": "stream",
          "name": "stderr",
          "text": [
            "/usr/local/lib/python3.7/dist-packages/ipykernel_launcher.py:16: DeprecationWarning: Call to deprecated `__getitem__` (Method will be removed in 4.0.0, use self.wv.__getitem__() instead).\n",
            "  app.launch_new_instance()\n"
          ]
        }
      ]
    },
    {
      "cell_type": "code",
      "source": [
        "# Save Embedding\n",
        "my_trained_vectors_D2_Doc_2 = model_Domain_2_Doc_2.wv\n",
        "my_trained_vectors_D2_Doc_2.save_word2vec_format('/content/sample_data/Embeddings/model_Domain_2_Doc_2.txt', binary=False)\n"
      ],
      "metadata": {
        "id": "xx2oRw-U9kGw"
      },
      "execution_count": null,
      "outputs": []
    },
    {
      "cell_type": "code",
      "source": [
        "Domain_2_Doc_3 = [[x] for x in Domain_2_tokanized[2] if x != []]  # ['in']\n",
        "\n",
        "model_Domain_2_Doc_3 = Word2Vec(Domain_2_Doc_3,size=300,\n",
        "        window=3,\n",
        "        alpha=0.03,\n",
        "        min_count=1,\n",
        "         sg=0,\n",
        "       workers=cores-1)\n",
        "\n",
        "trained_Domain_2_Doc_3_vocab = list(model_Domain_2_Doc_3.wv.vocab)\n",
        "\n",
        "#_____________________________________________________________________________________________\n",
        "# Embedding Vector\n",
        "Embedding_D2_Doc_3=[]\n",
        "for j in trained_Domain_2_Doc_3_vocab:\n",
        "   Embedding_D2_Doc_3.append(model_Domain_2_Doc_3[j])\n",
        "\n",
        "#_____________________________________________________________________________________________\n",
        "# Average\n",
        "Embedding_D2_Doc_3_sum = np.sum(Embedding_D2_Doc_3, axis=0)\n",
        "Embedding_D2_Doc_3_avg=Embedding_D2_Doc_3_sum/len(Embedding_D2_Doc_3)"
      ],
      "metadata": {
        "colab": {
          "base_uri": "https://localhost:8080/"
        },
        "id": "61qzAq1Oc2-5",
        "outputId": "96dd3b21-9c08-4497-e799-758e4e78f3dd"
      },
      "execution_count": null,
      "outputs": [
        {
          "output_type": "stream",
          "name": "stderr",
          "text": [
            "/usr/local/lib/python3.7/dist-packages/ipykernel_launcher.py:16: DeprecationWarning: Call to deprecated `__getitem__` (Method will be removed in 4.0.0, use self.wv.__getitem__() instead).\n",
            "  app.launch_new_instance()\n"
          ]
        }
      ]
    },
    {
      "cell_type": "code",
      "source": [
        "# Save Embedding\n",
        "my_trained_vectors_D2_Doc_3 = model_Domain_2_Doc_3.wv\n",
        "my_trained_vectors_D2_Doc_3.save_word2vec_format('/content/sample_data/Embeddings/model_Domain_2_Doc_3.txt', binary=False)\n"
      ],
      "metadata": {
        "id": "iBlGXoKH9qu5"
      },
      "execution_count": null,
      "outputs": []
    },
    {
      "cell_type": "code",
      "source": [
        "Domain_2_Doc_4 = [[x] for x in Domain_2_tokanized[3] if x != []]  # ['in']\n",
        "\n",
        "model_Domain_2_Doc_4 = Word2Vec(Domain_2_Doc_4,size=300,\n",
        "        window=3,\n",
        "        alpha=0.03,\n",
        "        min_count=1,\n",
        "         sg=0,\n",
        "       workers=cores-1)\n",
        "\n",
        "trained_Domain_2_Doc_4_vocab = list(model_Domain_2_Doc_4.wv.vocab)\n",
        "\n",
        "#_____________________________________________________________________________________________\n",
        "# Embedding Vector\n",
        "Embedding_D2_Doc_4=[]\n",
        "for j in trained_Domain_2_Doc_4_vocab:\n",
        "   Embedding_D2_Doc_4.append(model_Domain_2_Doc_4[j])\n",
        "\n",
        "#_____________________________________________________________________________________________\n",
        "# Average\n",
        "Embedding_D2_Doc_4_sum = np.sum(Embedding_D2_Doc_4, axis=0)\n",
        "Embedding_D2_Doc_4_avg=Embedding_D2_Doc_4_sum/len(Embedding_D2_Doc_4)"
      ],
      "metadata": {
        "colab": {
          "base_uri": "https://localhost:8080/"
        },
        "id": "NjEMNPbMc2v2",
        "outputId": "af60fa23-3695-4df2-f1ba-e4ca4d30d876"
      },
      "execution_count": null,
      "outputs": [
        {
          "output_type": "stream",
          "name": "stderr",
          "text": [
            "/usr/local/lib/python3.7/dist-packages/ipykernel_launcher.py:16: DeprecationWarning: Call to deprecated `__getitem__` (Method will be removed in 4.0.0, use self.wv.__getitem__() instead).\n",
            "  app.launch_new_instance()\n"
          ]
        }
      ]
    },
    {
      "cell_type": "code",
      "source": [
        "# Save Embedding\n",
        "my_trained_vectors_D2_Doc_4 = model_Domain_2_Doc_4.wv\n",
        "my_trained_vectors_D2_Doc_4.save_word2vec_format('/content/sample_data/Embeddings/model_Domain_2_Doc_4.txt', binary=False)\n"
      ],
      "metadata": {
        "id": "CFusEEM391Kf"
      },
      "execution_count": null,
      "outputs": []
    },
    {
      "cell_type": "markdown",
      "source": [
        "# Domain_3"
      ],
      "metadata": {
        "id": "X68ajnBZd9k9"
      }
    },
    {
      "cell_type": "code",
      "source": [
        "Domain_3_Doc_1 = [[x] for x in Domain_3_tokanized[0] if x != []]  # ['in']\n",
        "\n",
        "model_Domain_3_Doc_1 = Word2Vec(Domain_3_Doc_1,size=300,\n",
        "        window=3,\n",
        "        alpha=0.03,\n",
        "        min_count=1,\n",
        "         sg=0,\n",
        "       workers=cores-1)\n",
        "\n",
        "trained_Domain_3_Doc_1_vocab = list(model_Domain_3_Doc_1.wv.vocab)\n",
        "\n",
        "#_____________________________________________________________________________________________\n",
        "# Embedding Vector\n",
        "Embedding_D3_Doc_1=[]\n",
        "for j in trained_Domain_3_Doc_1_vocab:\n",
        "   Embedding_D3_Doc_1.append(model_Domain_3_Doc_1[j])\n",
        "\n",
        "#_____________________________________________________________________________________________\n",
        "# Average\n",
        "Embedding_D3_Doc_1_sum = np.sum(Embedding_D3_Doc_1, axis=0)\n",
        "Embedding_D3_Doc_1_avg=Embedding_D3_Doc_1_sum/len(Embedding_D3_Doc_1)"
      ],
      "metadata": {
        "colab": {
          "base_uri": "https://localhost:8080/"
        },
        "id": "OsAHwbUWeEHl",
        "outputId": "8610b76a-3d90-440e-e23a-9aef97dec35e"
      },
      "execution_count": null,
      "outputs": [
        {
          "output_type": "stream",
          "name": "stderr",
          "text": [
            "/usr/local/lib/python3.7/dist-packages/ipykernel_launcher.py:16: DeprecationWarning: Call to deprecated `__getitem__` (Method will be removed in 4.0.0, use self.wv.__getitem__() instead).\n",
            "  app.launch_new_instance()\n"
          ]
        }
      ]
    },
    {
      "cell_type": "code",
      "source": [
        "# Save Embedding\n",
        "my_trained_vectors_D3_Doc_1 = model_Domain_3_Doc_1.wv\n",
        "my_trained_vectors_D3_Doc_1.save_word2vec_format('/content/sample_data/Embeddings/model_Domain_3_Doc_1.txt', binary=False)\n"
      ],
      "metadata": {
        "id": "QZwWbWc_-Cbl"
      },
      "execution_count": null,
      "outputs": []
    },
    {
      "cell_type": "code",
      "source": [
        "Domain_3_Doc_2 = [[x] for x in Domain_3_tokanized[1] if x != []]  # ['in']\n",
        "\n",
        "model_Domain_3_Doc_2 = Word2Vec(Domain_3_Doc_2,size=300,\n",
        "        window=3,\n",
        "        alpha=0.03,\n",
        "        min_count=1,\n",
        "         sg=0,\n",
        "       workers=cores-1)\n",
        "\n",
        "trained_Domain_3_Doc_2_vocab = list(model_Domain_3_Doc_2.wv.vocab)\n",
        "\n",
        "#_____________________________________________________________________________________________\n",
        "# Embedding Vector\n",
        "Embedding_D3_Doc_2=[]\n",
        "for j in trained_Domain_3_Doc_2_vocab:\n",
        "   Embedding_D3_Doc_2.append(model_Domain_3_Doc_2[j])\n",
        "\n",
        "#_____________________________________________________________________________________________\n",
        "# Average\n",
        "Embedding_D3_Doc_2_sum = np.sum(Embedding_D3_Doc_2, axis=0)\n",
        "Embedding_D3_Doc_2_avg=Embedding_D3_Doc_2_sum/len(Embedding_D3_Doc_2)"
      ],
      "metadata": {
        "colab": {
          "base_uri": "https://localhost:8080/"
        },
        "id": "-onrvCRoeD7r",
        "outputId": "9801f9a3-7c5b-4a37-cace-9693a311628f"
      },
      "execution_count": null,
      "outputs": [
        {
          "output_type": "stream",
          "name": "stderr",
          "text": [
            "/usr/local/lib/python3.7/dist-packages/ipykernel_launcher.py:16: DeprecationWarning: Call to deprecated `__getitem__` (Method will be removed in 4.0.0, use self.wv.__getitem__() instead).\n",
            "  app.launch_new_instance()\n"
          ]
        }
      ]
    },
    {
      "cell_type": "code",
      "source": [
        "# Save Embedding\n",
        "my_trained_vectors_D3_Doc_2 = model_Domain_3_Doc_2.wv\n",
        "my_trained_vectors_D3_Doc_2.save_word2vec_format('/content/sample_data/Embeddings/model_Domain_3_Doc_2.txt', binary=False)\n"
      ],
      "metadata": {
        "id": "UuUdPlbq-Ji_"
      },
      "execution_count": null,
      "outputs": []
    },
    {
      "cell_type": "code",
      "source": [
        "Domain_3_Doc_3 = [[x] for x in Domain_3_tokanized[2] if x != []]  # ['in']\n",
        "\n",
        "model_Domain_3_Doc_3 = Word2Vec(Domain_3_Doc_3,size=300,\n",
        "        window=3,\n",
        "        alpha=0.03,\n",
        "        min_count=1,\n",
        "         sg=0,\n",
        "       workers=cores-1)\n",
        "\n",
        "trained_Domain_3_Doc_3_vocab = list(model_Domain_3_Doc_3.wv.vocab)\n",
        "\n",
        "#_____________________________________________________________________________________________\n",
        "# Embedding Vector\n",
        "Embedding_D3_Doc_3=[]\n",
        "for j in trained_Domain_3_Doc_3_vocab:\n",
        "   Embedding_D3_Doc_3.append(model_Domain_3_Doc_3[j])\n",
        "\n",
        "#_____________________________________________________________________________________________\n",
        "# Average\n",
        "Embedding_D3_Doc_3_sum = np.sum(Embedding_D3_Doc_3, axis=0)\n",
        "Embedding_D3_Doc_3_avg=Embedding_D3_Doc_3_sum/len(Embedding_D3_Doc_3)"
      ],
      "metadata": {
        "colab": {
          "base_uri": "https://localhost:8080/"
        },
        "id": "om7sBYG3eDwP",
        "outputId": "9778c739-2cec-4771-fc7a-57a29588d532"
      },
      "execution_count": null,
      "outputs": [
        {
          "output_type": "stream",
          "name": "stderr",
          "text": [
            "/usr/local/lib/python3.7/dist-packages/ipykernel_launcher.py:16: DeprecationWarning: Call to deprecated `__getitem__` (Method will be removed in 4.0.0, use self.wv.__getitem__() instead).\n",
            "  app.launch_new_instance()\n"
          ]
        }
      ]
    },
    {
      "cell_type": "code",
      "source": [
        "# Save Embedding\n",
        "my_trained_vectors_D3_Doc_3 = model_Domain_3_Doc_3.wv\n",
        "my_trained_vectors_D3_Doc_3.save_word2vec_format('/content/sample_data/Embeddings/model_Domain_3_Doc_3.txt', binary=False)\n"
      ],
      "metadata": {
        "id": "XBCE2pMd-RMJ"
      },
      "execution_count": null,
      "outputs": []
    },
    {
      "cell_type": "code",
      "source": [
        "Domain_3_Doc_4 = [[x] for x in Domain_3_tokanized[3] if x != []]  # ['in']\n",
        "\n",
        "model_Domain_3_Doc_4 = Word2Vec(Domain_3_Doc_4,size=300,\n",
        "        window=3,\n",
        "        alpha=0.03,\n",
        "        min_count=1,\n",
        "         sg=0,\n",
        "       workers=cores-1)\n",
        "\n",
        "trained_Domain_3_Doc_4_vocab = list(model_Domain_3_Doc_4.wv.vocab)\n",
        "\n",
        "#_____________________________________________________________________________________________\n",
        "# Embedding Vector\n",
        "Embedding_D3_Doc_4=[]\n",
        "for j in trained_Domain_3_Doc_4_vocab:\n",
        "   Embedding_D3_Doc_4.append(model_Domain_3_Doc_4[j])\n",
        "\n",
        "#_____________________________________________________________________________________________\n",
        "# Average\n",
        "Embedding_D3_Doc_4_sum = np.sum(Embedding_D3_Doc_4, axis=0)\n",
        "Embedding_D3_Doc_4_avg=Embedding_D3_Doc_4_sum/len(Embedding_D3_Doc_4)"
      ],
      "metadata": {
        "colab": {
          "base_uri": "https://localhost:8080/"
        },
        "id": "GwTqUM7geDiV",
        "outputId": "c85c71d5-1e27-4515-f69c-86510698492c"
      },
      "execution_count": null,
      "outputs": [
        {
          "output_type": "stream",
          "name": "stderr",
          "text": [
            "/usr/local/lib/python3.7/dist-packages/ipykernel_launcher.py:16: DeprecationWarning: Call to deprecated `__getitem__` (Method will be removed in 4.0.0, use self.wv.__getitem__() instead).\n",
            "  app.launch_new_instance()\n"
          ]
        }
      ]
    },
    {
      "cell_type": "code",
      "source": [
        "# Save Embedding\n",
        "my_trained_vectors_D3_Doc_4 = model_Domain_3_Doc_4.wv\n",
        "my_trained_vectors_D3_Doc_4.save_word2vec_format('/content/sample_data/Embeddings/model_Domain_3_Doc_4.txt', binary=False)\n"
      ],
      "metadata": {
        "id": "5I1pxvr0-XeP"
      },
      "execution_count": null,
      "outputs": []
    },
    {
      "cell_type": "markdown",
      "source": [
        "# Domain_4"
      ],
      "metadata": {
        "id": "0SCKYJdYgTrM"
      }
    },
    {
      "cell_type": "code",
      "source": [
        "Domain_4_Doc_1 = [[x] for x in Domain_3_tokanized[0] if x != []]  # ['in']\n",
        "\n",
        "model_Domain_4_Doc_1 = Word2Vec(Domain_4_Doc_1,size=300,\n",
        "        window=3,\n",
        "        alpha=0.03,\n",
        "        min_count=1,\n",
        "         sg=0,\n",
        "       workers=cores-1)\n",
        "\n",
        "trained_Domain_4_Doc_1_vocab = list(model_Domain_4_Doc_1.wv.vocab)\n",
        "\n",
        "#_____________________________________________________________________________________________\n",
        "# Embedding Vector\n",
        "Embedding_D4_Doc_1=[]\n",
        "for j in trained_Domain_4_Doc_1_vocab:\n",
        "   Embedding_D4_Doc_1.append(model_Domain_4_Doc_1[j])\n",
        "\n",
        "#_____________________________________________________________________________________________\n",
        "# Average\n",
        "Embedding_D4_Doc_1_sum = np.sum(Embedding_D4_Doc_1, axis=0)\n",
        "Embedding_D4_Doc_1_avg=Embedding_D4_Doc_1_sum/len(Embedding_D4_Doc_1)"
      ],
      "metadata": {
        "colab": {
          "base_uri": "https://localhost:8080/"
        },
        "id": "yuzO96lOgYVD",
        "outputId": "bd85398e-1d21-488b-ebbb-357b5f728ddb"
      },
      "execution_count": null,
      "outputs": [
        {
          "output_type": "stream",
          "name": "stderr",
          "text": [
            "/usr/local/lib/python3.7/dist-packages/ipykernel_launcher.py:16: DeprecationWarning: Call to deprecated `__getitem__` (Method will be removed in 4.0.0, use self.wv.__getitem__() instead).\n",
            "  app.launch_new_instance()\n"
          ]
        }
      ]
    },
    {
      "cell_type": "code",
      "source": [
        "# Save Embedding\n",
        "my_trained_vectors_D4_Doc_1 = model_Domain_4_Doc_1.wv\n",
        "my_trained_vectors_D4_Doc_1.save_word2vec_format('/content/sample_data/Embeddings/model_Domain_4_Doc_1.txt', binary=False)\n"
      ],
      "metadata": {
        "id": "I1qhajCF-jgG"
      },
      "execution_count": null,
      "outputs": []
    },
    {
      "cell_type": "code",
      "source": [
        "Domain_4_Doc_2 = [[x] for x in Domain_3_tokanized[1] if x != []]  # ['in']\n",
        "\n",
        "model_Domain_4_Doc_2 = Word2Vec(Domain_4_Doc_2,size=300,\n",
        "        window=3,\n",
        "        alpha=0.03,\n",
        "        min_count=1,\n",
        "         sg=0,\n",
        "       workers=cores-1)\n",
        "\n",
        "trained_Domain_4_Doc_2_vocab = list(model_Domain_4_Doc_2.wv.vocab)\n",
        "\n",
        "#_____________________________________________________________________________________________\n",
        "# Embedding Vector\n",
        "Embedding_D4_Doc_2=[]\n",
        "for j in trained_Domain_4_Doc_2_vocab:\n",
        "   Embedding_D4_Doc_2.append(model_Domain_4_Doc_2[j])\n",
        "\n",
        "#_____________________________________________________________________________________________\n",
        "# Average\n",
        "Embedding_D4_Doc_2_sum = np.sum(Embedding_D4_Doc_2, axis=0)\n",
        "Embedding_D4_Doc_2_avg=Embedding_D4_Doc_2_sum/len(Embedding_D4_Doc_2)"
      ],
      "metadata": {
        "colab": {
          "base_uri": "https://localhost:8080/"
        },
        "id": "J5c8J94hgwdp",
        "outputId": "1e34ff0c-acdb-4cb8-e54e-185411a06272"
      },
      "execution_count": null,
      "outputs": [
        {
          "output_type": "stream",
          "name": "stderr",
          "text": [
            "/usr/local/lib/python3.7/dist-packages/ipykernel_launcher.py:16: DeprecationWarning: Call to deprecated `__getitem__` (Method will be removed in 4.0.0, use self.wv.__getitem__() instead).\n",
            "  app.launch_new_instance()\n"
          ]
        }
      ]
    },
    {
      "cell_type": "code",
      "source": [
        "# Save Embedding\n",
        "my_trained_vectors_D4_Doc_2 = model_Domain_4_Doc_2.wv\n",
        "my_trained_vectors_D4_Doc_2.save_word2vec_format('/content/sample_data/Embeddings/model_Domain_4_Doc_2.txt', binary=False)\n"
      ],
      "metadata": {
        "id": "z-bz_VCD-sWJ"
      },
      "execution_count": null,
      "outputs": []
    },
    {
      "cell_type": "code",
      "source": [
        "Domain_4_Doc_3 = [[x] for x in Domain_3_tokanized[2] if x != []]  # ['in']\n",
        "\n",
        "model_Domain_4_Doc_3 = Word2Vec(Domain_4_Doc_3,size=300,\n",
        "        window=3,\n",
        "        alpha=0.03,\n",
        "        min_count=1,\n",
        "         sg=0,\n",
        "       workers=cores-1)\n",
        "\n",
        "trained_Domain_4_Doc_3_vocab = list(model_Domain_4_Doc_3.wv.vocab)\n",
        "\n",
        "#_____________________________________________________________________________________________\n",
        "# Embedding Vector\n",
        "Embedding_D4_Doc_3=[]\n",
        "for j in trained_Domain_4_Doc_3_vocab:\n",
        "   Embedding_D4_Doc_3.append(model_Domain_4_Doc_3[j])\n",
        "\n",
        "#_____________________________________________________________________________________________\n",
        "# Average\n",
        "Embedding_D4_Doc_3_sum = np.sum(Embedding_D4_Doc_3, axis=0)\n",
        "Embedding_D4_Doc_3_avg=Embedding_D4_Doc_3_sum/len(Embedding_D4_Doc_3)"
      ],
      "metadata": {
        "colab": {
          "base_uri": "https://localhost:8080/"
        },
        "id": "FQ_ND6zfgwJZ",
        "outputId": "bcbf6294-63ca-44c0-c966-2338f0f29281"
      },
      "execution_count": null,
      "outputs": [
        {
          "output_type": "stream",
          "name": "stderr",
          "text": [
            "/usr/local/lib/python3.7/dist-packages/ipykernel_launcher.py:16: DeprecationWarning: Call to deprecated `__getitem__` (Method will be removed in 4.0.0, use self.wv.__getitem__() instead).\n",
            "  app.launch_new_instance()\n"
          ]
        }
      ]
    },
    {
      "cell_type": "code",
      "source": [
        "# Save Embedding\n",
        "my_trained_vectors_D4_Doc_3 = model_Domain_4_Doc_3.wv\n",
        "my_trained_vectors_D4_Doc_3.save_word2vec_format('/content/sample_data/Embeddings/model_Domain_4_Doc_3.txt', binary=False)\n"
      ],
      "metadata": {
        "id": "kFhr_46D-0IV"
      },
      "execution_count": null,
      "outputs": []
    },
    {
      "cell_type": "code",
      "source": [
        "Domain_4_Doc_4 = [[x] for x in Domain_3_tokanized[3] if x != []]  # ['in']\n",
        "\n",
        "model_Domain_4_Doc_4 = Word2Vec(Domain_4_Doc_4,size=300,\n",
        "        window=3,\n",
        "        alpha=0.03,\n",
        "        min_count=1,\n",
        "         sg=0,\n",
        "       workers=cores-1)\n",
        "\n",
        "trained_Domain_4_Doc_4_vocab = list(model_Domain_4_Doc_4.wv.vocab)\n",
        "\n",
        "#_____________________________________________________________________________________________\n",
        "# Embedding Vector\n",
        "Embedding_D4_Doc_4=[]\n",
        "for j in trained_Domain_4_Doc_4_vocab:\n",
        "   Embedding_D4_Doc_4.append(model_Domain_4_Doc_4[j])\n",
        "\n",
        "#_____________________________________________________________________________________________\n",
        "# Average\n",
        "Embedding_D4_Doc_4_sum = np.sum(Embedding_D4_Doc_4, axis=0)\n",
        "Embedding_D4_Doc_4_avg=Embedding_D4_Doc_4_sum/len(Embedding_D4_Doc_4)"
      ],
      "metadata": {
        "colab": {
          "base_uri": "https://localhost:8080/"
        },
        "id": "W1lRFbXdgvpw",
        "outputId": "b225e20f-7ad8-4781-9952-e0227472b66b"
      },
      "execution_count": null,
      "outputs": [
        {
          "output_type": "stream",
          "name": "stderr",
          "text": [
            "/usr/local/lib/python3.7/dist-packages/ipykernel_launcher.py:16: DeprecationWarning: Call to deprecated `__getitem__` (Method will be removed in 4.0.0, use self.wv.__getitem__() instead).\n",
            "  app.launch_new_instance()\n"
          ]
        }
      ]
    },
    {
      "cell_type": "code",
      "source": [
        "# Save Embedding\n",
        "my_trained_vectors_D4_Doc_4 = model_Domain_4_Doc_4.wv\n",
        "my_trained_vectors_D4_Doc_4.save_word2vec_format('/content/sample_data/Embeddings/model_Domain_4_Doc_4.txt', binary=False)\n"
      ],
      "metadata": {
        "id": "W9596rTR-6iL"
      },
      "execution_count": null,
      "outputs": []
    },
    {
      "cell_type": "markdown",
      "source": [
        "# Domain_5"
      ],
      "metadata": {
        "id": "qmCUwEmDh6xi"
      }
    },
    {
      "cell_type": "code",
      "source": [
        "Domain_5_Doc_1 = [[x] for x in Domain_3_tokanized[0] if x != []]  # ['in']\n",
        "\n",
        "model_Domain_5_Doc_1 = Word2Vec(Domain_5_Doc_1,size=300,\n",
        "        window=3,\n",
        "        alpha=0.03,\n",
        "        min_count=1,\n",
        "         sg=0,\n",
        "       workers=cores-1)\n",
        "\n",
        "trained_Domain_5_Doc_1_vocab = list(model_Domain_5_Doc_1.wv.vocab)\n",
        "\n",
        "#_____________________________________________________________________________________________\n",
        "# Embedding Vector\n",
        "Embedding_D5_Doc_1=[]\n",
        "for j in trained_Domain_5_Doc_1_vocab:\n",
        "   Embedding_D5_Doc_1.append(model_Domain_5_Doc_1[j])\n",
        "\n",
        "#_____________________________________________________________________________________________\n",
        "# Average\n",
        "Embedding_D5_Doc_1_sum = np.sum(Embedding_D5_Doc_1, axis=0)\n",
        "Embedding_D5_Doc_1_avg=Embedding_D5_Doc_1_sum/len(Embedding_D5_Doc_1)"
      ],
      "metadata": {
        "colab": {
          "base_uri": "https://localhost:8080/"
        },
        "id": "BcQaOGweiBbn",
        "outputId": "d73f921d-58f1-4335-b871-505a09ee066a"
      },
      "execution_count": null,
      "outputs": [
        {
          "output_type": "stream",
          "name": "stderr",
          "text": [
            "/usr/local/lib/python3.7/dist-packages/ipykernel_launcher.py:16: DeprecationWarning: Call to deprecated `__getitem__` (Method will be removed in 4.0.0, use self.wv.__getitem__() instead).\n",
            "  app.launch_new_instance()\n"
          ]
        }
      ]
    },
    {
      "cell_type": "code",
      "source": [
        "# Save Embedding\n",
        "my_trained_vectors_D5_Doc_1 = model_Domain_5_Doc_1.wv\n",
        "my_trained_vectors_D5_Doc_1.save_word2vec_format('/content/sample_data/Embeddings/model_Domain_5_Doc_1.txt', binary=False)\n"
      ],
      "metadata": {
        "id": "hr34r0Ld_J3o"
      },
      "execution_count": null,
      "outputs": []
    },
    {
      "cell_type": "code",
      "source": [
        "Domain_5_Doc_2 = [[x] for x in Domain_3_tokanized[1] if x != []]  # ['in']\n",
        "\n",
        "model_Domain_5_Doc_2 = Word2Vec(Domain_5_Doc_2,size=300,\n",
        "        window=3,\n",
        "        alpha=0.03,\n",
        "        min_count=1,\n",
        "         sg=0,\n",
        "       workers=cores-1)\n",
        "\n",
        "trained_Domain_5_Doc_2_vocab = list(model_Domain_5_Doc_2.wv.vocab)\n",
        "\n",
        "#_____________________________________________________________________________________________\n",
        "# Embedding Vector\n",
        "Embedding_D5_Doc_2=[]\n",
        "for j in trained_Domain_5_Doc_2_vocab:\n",
        "   Embedding_D5_Doc_2.append(model_Domain_5_Doc_2[j])\n",
        "\n",
        "#_____________________________________________________________________________________________\n",
        "# Average\n",
        "Embedding_D5_Doc_2_sum = np.sum(Embedding_D5_Doc_2, axis=0)\n",
        "Embedding_D5_Doc_2_avg=Embedding_D5_Doc_2_sum/len(Embedding_D5_Doc_2)"
      ],
      "metadata": {
        "colab": {
          "base_uri": "https://localhost:8080/"
        },
        "id": "dHJ2KHHRiBMM",
        "outputId": "5ddfbc75-4e20-4bc6-8e15-57df92b3e18c"
      },
      "execution_count": null,
      "outputs": [
        {
          "output_type": "stream",
          "name": "stderr",
          "text": [
            "/usr/local/lib/python3.7/dist-packages/ipykernel_launcher.py:16: DeprecationWarning: Call to deprecated `__getitem__` (Method will be removed in 4.0.0, use self.wv.__getitem__() instead).\n",
            "  app.launch_new_instance()\n"
          ]
        }
      ]
    },
    {
      "cell_type": "code",
      "source": [
        "# Save Embedding\n",
        "my_trained_vectors_D5_Doc_2 = model_Domain_5_Doc_2.wv\n",
        "my_trained_vectors_D5_Doc_2.save_word2vec_format('/content/sample_data/Embeddings/model_Domain_5_Doc_2.txt', binary=False)\n"
      ],
      "metadata": {
        "id": "jDOiQEdK_ZeM"
      },
      "execution_count": null,
      "outputs": []
    },
    {
      "cell_type": "code",
      "source": [
        "Domain_5_Doc_3 = [[x] for x in Domain_3_tokanized[2] if x != []]  # ['in']\n",
        "\n",
        "model_Domain_5_Doc_3 = Word2Vec(Domain_5_Doc_3,size=300,\n",
        "        window=3,\n",
        "        alpha=0.03,\n",
        "        min_count=1,\n",
        "         sg=0,\n",
        "       workers=cores-1)\n",
        "\n",
        "trained_Domain_5_Doc_3_vocab = list(model_Domain_5_Doc_3.wv.vocab)\n",
        "\n",
        "#_____________________________________________________________________________________________\n",
        "# Embedding Vector\n",
        "Embedding_D5_Doc_3=[]\n",
        "for j in trained_Domain_5_Doc_3_vocab:\n",
        "   Embedding_D5_Doc_3.append(model_Domain_5_Doc_3[j])\n",
        "\n",
        "#_____________________________________________________________________________________________\n",
        "# Average\n",
        "Embedding_D5_Doc_3_sum = np.sum(Embedding_D5_Doc_3, axis=0)\n",
        "Embedding_D5_Doc_3_avg=Embedding_D5_Doc_3_sum/len(Embedding_D5_Doc_3)"
      ],
      "metadata": {
        "colab": {
          "base_uri": "https://localhost:8080/"
        },
        "id": "mf5cpS8hiA9G",
        "outputId": "d319e842-695b-41f3-aa8f-2bdf1eebf77c"
      },
      "execution_count": null,
      "outputs": [
        {
          "output_type": "stream",
          "name": "stderr",
          "text": [
            "/usr/local/lib/python3.7/dist-packages/ipykernel_launcher.py:16: DeprecationWarning: Call to deprecated `__getitem__` (Method will be removed in 4.0.0, use self.wv.__getitem__() instead).\n",
            "  app.launch_new_instance()\n"
          ]
        }
      ]
    },
    {
      "cell_type": "code",
      "source": [
        "# Save Embedding\n",
        "my_trained_vectors_D5_Doc_3 = model_Domain_5_Doc_3.wv\n",
        "my_trained_vectors_D5_Doc_3.save_word2vec_format('/content/sample_data/Embeddings/model_Domain_5_Doc_3.txt', binary=False)\n"
      ],
      "metadata": {
        "id": "Z3d9KPyz_pvN"
      },
      "execution_count": null,
      "outputs": []
    },
    {
      "cell_type": "code",
      "source": [
        "Domain_5_Doc_4 = [[x] for x in Domain_3_tokanized[3] if x != []]  # ['in']\n",
        "\n",
        "model_Domain_5_Doc_4 = Word2Vec(Domain_5_Doc_4,size=300,\n",
        "        window=3,\n",
        "        alpha=0.03,\n",
        "        min_count=1,\n",
        "         sg=0,\n",
        "       workers=cores-1)\n",
        "\n",
        "trained_Domain_5_Doc_4_vocab = list(model_Domain_5_Doc_4.wv.vocab)\n",
        "\n",
        "#_____________________________________________________________________________________________\n",
        "# Embedding Vector\n",
        "Embedding_D5_Doc_4=[]\n",
        "for j in trained_Domain_5_Doc_4_vocab:\n",
        "   Embedding_D5_Doc_4.append(model_Domain_5_Doc_4[j])\n",
        "\n",
        "#_____________________________________________________________________________________________\n",
        "# Average\n",
        "Embedding_D5_Doc_4_sum = np.sum(Embedding_D5_Doc_4, axis=0)\n",
        "Embedding_D5_Doc_4_avg=Embedding_D5_Doc_4_sum/len(Embedding_D5_Doc_4)"
      ],
      "metadata": {
        "colab": {
          "base_uri": "https://localhost:8080/"
        },
        "id": "HNXhvainiAqt",
        "outputId": "122246af-154f-4133-d20f-41fe57abc120"
      },
      "execution_count": null,
      "outputs": [
        {
          "output_type": "stream",
          "name": "stderr",
          "text": [
            "/usr/local/lib/python3.7/dist-packages/ipykernel_launcher.py:16: DeprecationWarning: Call to deprecated `__getitem__` (Method will be removed in 4.0.0, use self.wv.__getitem__() instead).\n",
            "  app.launch_new_instance()\n"
          ]
        }
      ]
    },
    {
      "cell_type": "code",
      "source": [
        "# Save Embedding\n",
        "my_trained_vectors_D5_Doc_4 = model_Domain_5_Doc_4.wv\n",
        "my_trained_vectors_D5_Doc_4.save_word2vec_format('/content/sample_data/Embeddings/model_Domain_5_Doc_4.txt', binary=False)\n"
      ],
      "metadata": {
        "id": "HSwV59n8_wTH"
      },
      "execution_count": null,
      "outputs": []
    },
    {
      "cell_type": "markdown",
      "source": [
        "# Add All Average"
      ],
      "metadata": {
        "id": "hrjq2cYWaqdX"
      }
    },
    {
      "cell_type": "code",
      "source": [
        "# Domain_1\n",
        "for i in range(300):\n",
        "  total_embedding[0][i]=(Embedding_D1_Doc_1_avg[i])\n",
        "\n",
        "for i in range(300):\n",
        "  total_embedding[1][i]=(Embedding_D1_Doc_2_avg[i])\n",
        "\n",
        "for i in range(300):\n",
        "  total_embedding[2][i]=(Embedding_D1_Doc_3_avg[i])\n",
        "\n",
        "for i in range(300):\n",
        "  total_embedding[3][i]=(Embedding_D1_Doc_4_avg[i])"
      ],
      "metadata": {
        "id": "imdjtinaYh_U"
      },
      "execution_count": null,
      "outputs": []
    },
    {
      "cell_type": "code",
      "source": [
        "# Domain_2\n",
        "for i in range(300):\n",
        "  total_embedding[4][i]=(Embedding_D2_Doc_1_avg[i])\n",
        "\n",
        "for i in range(300):\n",
        "  total_embedding[5][i]=(Embedding_D2_Doc_2_avg[i])\n",
        "\n",
        "for i in range(300):\n",
        "  total_embedding[6][i]=(Embedding_D2_Doc_3_avg[i])\n",
        "\n",
        "for i in range(300):\n",
        "  total_embedding[7][i]=(Embedding_D2_Doc_4_avg[i])"
      ],
      "metadata": {
        "id": "7NCXV3lhj9PO"
      },
      "execution_count": null,
      "outputs": []
    },
    {
      "cell_type": "code",
      "source": [
        "# Domain_3\n",
        "for i in range(300):\n",
        "  total_embedding[8][i]=(Embedding_D3_Doc_1_avg[i])\n",
        "\n",
        "for i in range(300):\n",
        "  total_embedding[9][i]=(Embedding_D3_Doc_2_avg[i])\n",
        "\n",
        "for i in range(300):\n",
        "  total_embedding[10][i]=(Embedding_D3_Doc_3_avg[i])\n",
        "\n",
        "for i in range(300):\n",
        "  total_embedding[11][i]=(Embedding_D3_Doc_4_avg[i])"
      ],
      "metadata": {
        "id": "RNmFTP97kSKC"
      },
      "execution_count": null,
      "outputs": []
    },
    {
      "cell_type": "code",
      "source": [
        "# Domain_4\n",
        "for i in range(300):\n",
        "  total_embedding[12][i]=(Embedding_D4_Doc_1_avg[i])\n",
        "\n",
        "for i in range(300):\n",
        "  total_embedding[13][i]=(Embedding_D4_Doc_2_avg[i])\n",
        "\n",
        "for i in range(300):\n",
        "  total_embedding[14][i]=(Embedding_D4_Doc_3_avg[i])\n",
        "\n",
        "for i in range(300):\n",
        "  total_embedding[15][i]=(Embedding_D4_Doc_4_avg[i])"
      ],
      "metadata": {
        "id": "CcZQ3A_WkgTT"
      },
      "execution_count": null,
      "outputs": []
    },
    {
      "cell_type": "code",
      "source": [
        "# Domain_5\n",
        "for i in range(300):\n",
        "  total_embedding[16][i]=(Embedding_D5_Doc_1_avg[i])\n",
        "\n",
        "for i in range(300):\n",
        "  total_embedding[17][i]=(Embedding_D5_Doc_2_avg[i])\n",
        "\n",
        "for i in range(300):\n",
        "  total_embedding[18][i]=(Embedding_D5_Doc_3_avg[i])\n",
        "\n",
        "for i in range(300):\n",
        "  total_embedding[19][i]=(Embedding_D5_Doc_4_avg[i])"
      ],
      "metadata": {
        "id": "aecqu66bkhWg"
      },
      "execution_count": null,
      "outputs": []
    },
    {
      "cell_type": "code",
      "source": [
        "# convert dictionary into string\n",
        "result = str(total_embedding)\n",
        "\n",
        "# print resulting string\n",
        "print (\"\\n\", type(result))\n",
        "\n",
        "# Open a file with access mode 'a'\n",
        "file_object = open('/content/sample_data/Embeddings/total_embedding_avg_Model_2.txt', 'a')\n",
        "# Append 'hello' at the end of file\n",
        "file_object.write(result)\n",
        "# Close the file\n",
        "file_object.close()\n"
      ],
      "metadata": {
        "colab": {
          "base_uri": "https://localhost:8080/"
        },
        "id": "sVXIqGj1ANR4",
        "outputId": "8ecc1202-1032-4e0e-b267-9ebf82a02e85"
      },
      "execution_count": null,
      "outputs": [
        {
          "output_type": "stream",
          "name": "stdout",
          "text": [
            "\n",
            " <class 'str'>\n"
          ]
        }
      ]
    },
    {
      "cell_type": "markdown",
      "source": [
        "# Cos_Sim for test_1"
      ],
      "metadata": {
        "id": "SRVVR5B6nrVE"
      }
    },
    {
      "cell_type": "code",
      "source": [
        "cos_sim_total_1_Model_2 = []\n",
        "for i in range (len(total_embedding)):\n",
        "  cos_sim_total_1_Model_2 .append(dot(Embedding_test_sum_avg, total_embedding[i])/(norm(Embedding_test_sum_avg)*norm(total_embedding[i])))"
      ],
      "metadata": {
        "id": "6pVAWsFRn_Qw"
      },
      "execution_count": null,
      "outputs": []
    },
    {
      "cell_type": "code",
      "source": [
        "heapq.nlargest(3, zip(cos_sim_total_1_Model_2, Domain_Names))"
      ],
      "metadata": {
        "colab": {
          "base_uri": "https://localhost:8080/"
        },
        "id": "sH9JbGLCoUmZ",
        "outputId": "c6fc4bd7-0d82-4055-ef1b-393957f74b22"
      },
      "execution_count": null,
      "outputs": [
        {
          "output_type": "execute_result",
          "data": {
            "text/plain": [
              "[(0.0824104114311443, 'D1_ComputerScience_Doc_3'),\n",
              " (0.0744158456937712, 'D5_Sport_Doc_4'),\n",
              " (0.0744158456937712, 'D4_Medical_Doc_4')]"
            ]
          },
          "metadata": {},
          "execution_count": 262
        }
      ]
    },
    {
      "cell_type": "markdown",
      "source": [
        "# Cos_Sim for test_2"
      ],
      "metadata": {
        "id": "90NQvtvunz-j"
      }
    },
    {
      "cell_type": "code",
      "source": [
        "cos_sim_total_2_Model_2 = []\n",
        "for i in range (len(total_embedding)):\n",
        "  cos_sim_total_2_Model_2 .append(dot(Embedding_test_sum_avg_2, total_embedding[i])/(norm(Embedding_test_sum_avg_2)*norm(total_embedding[i])))"
      ],
      "metadata": {
        "id": "gwKQ8Bpbovzo"
      },
      "execution_count": null,
      "outputs": []
    },
    {
      "cell_type": "code",
      "source": [
        "heapq.nlargest(3, zip(cos_sim_total_2_Model_2, Domain_Names))"
      ],
      "metadata": {
        "colab": {
          "base_uri": "https://localhost:8080/"
        },
        "id": "aF9vasDzo5Xb",
        "outputId": "81b2dd1e-8261-44c0-fb71-097d00d18b0a"
      },
      "execution_count": null,
      "outputs": [
        {
          "output_type": "execute_result",
          "data": {
            "text/plain": [
              "[(0.0807244840161415, 'D5_Sport_Doc_4'),\n",
              " (0.0807244840161415, 'D4_Medical_Doc_4'),\n",
              " (0.0807244840161415, 'D3_Election_Doc_4')]"
            ]
          },
          "metadata": {},
          "execution_count": 264
        }
      ]
    },
    {
      "cell_type": "markdown",
      "source": [
        "# Cos_Sim for test_3"
      ],
      "metadata": {
        "id": "stBNlt29n0iV"
      }
    },
    {
      "cell_type": "code",
      "source": [
        "cos_sim_total_3_Model_2 = []\n",
        "for i in range (len(total_embedding)):\n",
        "  cos_sim_total_3_Model_2 .append(dot(Embedding_test_sum_avg_3, total_embedding[i])/(norm(Embedding_test_sum_avg_3)*norm(total_embedding[i])))"
      ],
      "metadata": {
        "id": "ieIWW1NSpESg"
      },
      "execution_count": null,
      "outputs": []
    },
    {
      "cell_type": "code",
      "source": [
        "heapq.nlargest(3, zip(cos_sim_total_3_Model_2, Domain_Names))"
      ],
      "metadata": {
        "colab": {
          "base_uri": "https://localhost:8080/"
        },
        "id": "eDUbjPlbpMoA",
        "outputId": "b0716888-d3bc-4287-87db-4123a2d14141"
      },
      "execution_count": null,
      "outputs": [
        {
          "output_type": "execute_result",
          "data": {
            "text/plain": [
              "[(0.07971879656656734, 'D2_Cuisine_Doc_3'),\n",
              " (0.06282505029310191, 'D2_Cuisine_Doc_1'),\n",
              " (0.046858912060543996, 'D5_Sport_Doc_4')]"
            ]
          },
          "metadata": {},
          "execution_count": 266
        }
      ]
    },
    {
      "cell_type": "markdown",
      "source": [
        "# Cos_Sim for test_4"
      ],
      "metadata": {
        "id": "9zmV8rDLn0_x"
      }
    },
    {
      "cell_type": "code",
      "source": [
        "cos_sim_total_4_Model_2 = []\n",
        "for i in range (len(total_embedding)):\n",
        "  cos_sim_total_4_Model_2 .append(dot(Embedding_test_sum_avg_4, total_embedding[i])/(norm(Embedding_test_sum_avg_4)*norm(total_embedding[i])))"
      ],
      "metadata": {
        "id": "ycLkz17Hn56v"
      },
      "execution_count": null,
      "outputs": []
    },
    {
      "cell_type": "code",
      "source": [
        "heapq.nlargest(3, zip(cos_sim_total_4_Model_2, Domain_Names))"
      ],
      "metadata": {
        "colab": {
          "base_uri": "https://localhost:8080/"
        },
        "id": "vMULmt_CplY5",
        "outputId": "2fadbe67-be7d-4aca-c71a-c5bf22dab428"
      },
      "execution_count": null,
      "outputs": [
        {
          "output_type": "execute_result",
          "data": {
            "text/plain": [
              "[(0.06517492943870498, 'D2_Cuisine_Doc_1'),\n",
              " (0.05298171539198354, 'D5_Sport_Doc_2'),\n",
              " (0.05298171539198354, 'D4_Medical_Doc_2')]"
            ]
          },
          "metadata": {},
          "execution_count": 268
        }
      ]
    },
    {
      "cell_type": "code",
      "source": [
        ""
      ],
      "metadata": {
        "id": "MVly_MYYprSG"
      },
      "execution_count": null,
      "outputs": []
    }
  ]
}